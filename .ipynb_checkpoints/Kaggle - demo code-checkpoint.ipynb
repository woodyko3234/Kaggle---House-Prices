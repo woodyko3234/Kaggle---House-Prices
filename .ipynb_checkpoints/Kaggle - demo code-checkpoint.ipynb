{
 "cells": [
  {
   "cell_type": "markdown",
   "metadata": {},
   "source": [
    "code copied from: https://www.kaggle.com/fiorenza2/journey-to-the-top-10"
   ]
  },
  {
   "cell_type": "markdown",
   "metadata": {
    "_cell_guid": "07297a3b-88d5-4dab-a4da-a51a6fc4889c",
    "_uuid": "7df47706254a9b3d350307310e614b8b49da947f"
   },
   "source": [
    "# Journey to the top 10%"
   ]
  },
  {
   "cell_type": "markdown",
   "metadata": {
    "_cell_guid": "bd967f93-4f5d-4e3a-b2e0-0cd2e8d6f376",
    "_uuid": "291e411cbac6239026a82ce4f0f86d304bd4db73"
   },
   "source": [
    "With most kernels/notebooks, you get the following steps, presented one after another:\n",
    "\n",
    "1. Data Exploration\n",
    "2. Data Engineering\n",
    "3. Data Modelling\n",
    "4. Results\n",
    "\n",
    "This doesn't reflect the actual process of how you take part Kaggle competitions; in reality parts 1 through to 3 are cycled through repeatedly, in varying orders, until we finally hit stage 4.\n",
    "\n",
    "Therefore, this is a notebook which more closely documents the actual process I took. The aim is twofold:\n",
    "\n",
    "1. Posterity, as I will want to revisit the exact thoughts/rationales I had behind making certain choices.\n",
    "2. Pedagogical, as it may benefit others to understand how I hacked and stumbled my way through this competition.\n",
    "\n",
    "Of course, as much as it pains me, the process will be abridged as otherwise it would be far too long (it took me about 2 weeks of effort with 5 different notebooks).\n",
    "\n",
    "At the time of writing, the below code will get you into the top 10% of the \"House Prices: Advanced Regression Techniques\" tutorial competition on Kaggle. I tried to do as much of this on my own as possible, but give credit where it's due when I've adopted ideas from other Kagglers.\n",
    "\n",
    "I also understand that some people will want a TL;DR, so see below for a summary of the contents so you can skip to the juicy bits (probably sections 5.C and 6.A-C):"
   ]
  },
  {
   "cell_type": "markdown",
   "metadata": {
    "_cell_guid": "b7a88790-8492-4c2d-b84c-0d3d77ee61b6",
    "_uuid": "39c725de450a8ca65d5c806d725777498dac709b"
   },
   "source": [
    "# Contents:"
   ]
  },
  {
   "cell_type": "markdown",
   "metadata": {
    "_cell_guid": "576df80b-e6df-4803-83ec-1b4e8d660948",
    "_uuid": "e3a4e3fdc4ef16dd15f3656cb5d64b769e904fac"
   },
   "source": [
    "1. Initial Data Exploration\n",
    "2. Create a Baseline Model\n",
    "3. Feature Engineering: First Pass\n",
    "4. Different Models\n",
    "5. More Data Modelling and Exploration\n",
    "    1. Outliers (manual and statistical detection)\n",
    "    2. Overfitting\n",
    "    3. The FINAL engineering steps in one section\n",
    "6. Final Modelling\n",
    "    1. Lasso\n",
    "    2. Ensembled XGBoost\n",
    "    3. Ensembled Everything\n",
    "7. Afterword"
   ]
  },
  {
   "cell_type": "markdown",
   "metadata": {
    "_cell_guid": "0e0a5d0c-8602-4a72-8d4b-247d0bf048d9",
    "_uuid": "9ca94d704f5bbe58830b0e9b4296998c773e6c60"
   },
   "source": [
    "# 1. Initial Data Exploration"
   ]
  },
  {
   "cell_type": "markdown",
   "metadata": {
    "_cell_guid": "2d450984-e36f-46e7-9475-f4492b0d2e02",
    "_uuid": "40019e787b59cb9e52a86a9c57eb84ad9f79b025"
   },
   "source": [
    "The first step is always to read the data description if avaialble. We need to build a foundation of knowledge on which we can stand, so that we can make informed decisions further down the line. The approach I will take is relatively straightforward; look for interesting things in the data which we can test out later."
   ]
  },
  {
   "cell_type": "markdown",
   "metadata": {
    "_cell_guid": "fcff5195-02c4-4ec0-ba62-c25ea6dfad80",
    "_uuid": "d0f335847468b8e72fe823e3c5347394459c042a"
   },
   "source": [
    "The first thing to notice is that this dataset is that there are a fair few variables. Furthermore, there seems to be categorical features listed as numbers/ordinals (MSSubClass, MoSold), and the exact opposite issue (Quality measures). We will make a note of this and see if it improves our models later.\n",
    "\n",
    "Interestingly, it forewarns us to the presence of missing variables, which for the most case are due to a parameter not being relevant (i.e.: a one story flat will never have a properties relating to a second story).\n",
    "\n",
    "The next thing to do is to load in the training data and understand what we will be fitting our models to."
   ]
  },
  {
   "cell_type": "code",
   "execution_count": 1,
   "metadata": {
    "_cell_guid": "f09254e3-673d-40f4-940f-818c9bc86f8b",
    "_execution_state": "idle",
    "_uuid": "9bc5facea0786f8194556b350470fb5e6ce18ac4",
    "collapsed": true
   },
   "outputs": [],
   "source": [
    "import numpy as np\n",
    "import pandas as pd\n",
    "import math\n",
    "from scipy import stats"
   ]
  },
  {
   "cell_type": "code",
   "execution_count": 2,
   "metadata": {
    "_cell_guid": "31b317cc-6a4e-4cd9-9d1b-c6125b0b25ec",
    "_execution_state": "idle",
    "_uuid": "c0d816d4b81c06ae1880056931903ae1119b6fc7",
    "scrolled": true
   },
   "outputs": [
    {
     "name": "stdout",
     "output_type": "stream",
     "text": [
      "<class 'pandas.core.frame.DataFrame'>\n",
      "RangeIndex: 1460 entries, 0 to 1459\n",
      "Data columns (total 81 columns):\n",
      "Id               1460 non-null int64\n",
      "MSSubClass       1460 non-null int64\n",
      "MSZoning         1460 non-null object\n",
      "LotFrontage      1201 non-null float64\n",
      "LotArea          1460 non-null int64\n",
      "Street           1460 non-null object\n",
      "Alley            91 non-null object\n",
      "LotShape         1460 non-null object\n",
      "LandContour      1460 non-null object\n",
      "Utilities        1460 non-null object\n",
      "LotConfig        1460 non-null object\n",
      "LandSlope        1460 non-null object\n",
      "Neighborhood     1460 non-null object\n",
      "Condition1       1460 non-null object\n",
      "Condition2       1460 non-null object\n",
      "BldgType         1460 non-null object\n",
      "HouseStyle       1460 non-null object\n",
      "OverallQual      1460 non-null int64\n",
      "OverallCond      1460 non-null int64\n",
      "YearBuilt        1460 non-null int64\n",
      "YearRemodAdd     1460 non-null int64\n",
      "RoofStyle        1460 non-null object\n",
      "RoofMatl         1460 non-null object\n",
      "Exterior1st      1460 non-null object\n",
      "Exterior2nd      1460 non-null object\n",
      "MasVnrType       1452 non-null object\n",
      "MasVnrArea       1452 non-null float64\n",
      "ExterQual        1460 non-null object\n",
      "ExterCond        1460 non-null object\n",
      "Foundation       1460 non-null object\n",
      "BsmtQual         1423 non-null object\n",
      "BsmtCond         1423 non-null object\n",
      "BsmtExposure     1422 non-null object\n",
      "BsmtFinType1     1423 non-null object\n",
      "BsmtFinSF1       1460 non-null int64\n",
      "BsmtFinType2     1422 non-null object\n",
      "BsmtFinSF2       1460 non-null int64\n",
      "BsmtUnfSF        1460 non-null int64\n",
      "TotalBsmtSF      1460 non-null int64\n",
      "Heating          1460 non-null object\n",
      "HeatingQC        1460 non-null object\n",
      "CentralAir       1460 non-null object\n",
      "Electrical       1459 non-null object\n",
      "1stFlrSF         1460 non-null int64\n",
      "2ndFlrSF         1460 non-null int64\n",
      "LowQualFinSF     1460 non-null int64\n",
      "GrLivArea        1460 non-null int64\n",
      "BsmtFullBath     1460 non-null int64\n",
      "BsmtHalfBath     1460 non-null int64\n",
      "FullBath         1460 non-null int64\n",
      "HalfBath         1460 non-null int64\n",
      "BedroomAbvGr     1460 non-null int64\n",
      "KitchenAbvGr     1460 non-null int64\n",
      "KitchenQual      1460 non-null object\n",
      "TotRmsAbvGrd     1460 non-null int64\n",
      "Functional       1460 non-null object\n",
      "Fireplaces       1460 non-null int64\n",
      "FireplaceQu      770 non-null object\n",
      "GarageType       1379 non-null object\n",
      "GarageYrBlt      1379 non-null float64\n",
      "GarageFinish     1379 non-null object\n",
      "GarageCars       1460 non-null int64\n",
      "GarageArea       1460 non-null int64\n",
      "GarageQual       1379 non-null object\n",
      "GarageCond       1379 non-null object\n",
      "PavedDrive       1460 non-null object\n",
      "WoodDeckSF       1460 non-null int64\n",
      "OpenPorchSF      1460 non-null int64\n",
      "EnclosedPorch    1460 non-null int64\n",
      "3SsnPorch        1460 non-null int64\n",
      "ScreenPorch      1460 non-null int64\n",
      "PoolArea         1460 non-null int64\n",
      "PoolQC           7 non-null object\n",
      "Fence            281 non-null object\n",
      "MiscFeature      54 non-null object\n",
      "MiscVal          1460 non-null int64\n",
      "MoSold           1460 non-null int64\n",
      "YrSold           1460 non-null int64\n",
      "SaleType         1460 non-null object\n",
      "SaleCondition    1460 non-null object\n",
      "SalePrice        1460 non-null int64\n",
      "dtypes: float64(3), int64(35), object(43)\n",
      "memory usage: 924.0+ KB\n"
     ]
    }
   ],
   "source": [
    "train = pd.read_csv('train.csv')\n",
    "train.info()"
   ]
  },
  {
   "cell_type": "markdown",
   "metadata": {
    "_cell_guid": "e610c0ca-6098-4399-9f96-16587607bd1c",
    "_uuid": "76e676b2f69c54d088ddff29b8d36209bd1889f5"
   },
   "source": [
    "As expected, there are a number of fields with missing values, and some fields with very few actual values. This is not necessarily a bad thing, as we can impute values where necessary. Furthermore, perhaps setting them straight to zero may be better?"
   ]
  },
  {
   "cell_type": "markdown",
   "metadata": {
    "_cell_guid": "25d42ada-9f28-464f-9799-fc476d713134",
    "_uuid": "fef584202c63b3c5983bdadc2e8e2227232df8c8"
   },
   "source": [
    "## Correlations"
   ]
  },
  {
   "cell_type": "markdown",
   "metadata": {
    "_cell_guid": "3fffbe67-39f7-4856-9b61-d7c97251df39",
    "_uuid": "de6d6081a58083ddcb2a1dbfd313f71fcbdab0ad"
   },
   "source": [
    "As a starting point, let's do a quick heatmap plot. Primarily because they look nice, but also because they can give us a bit of information about the data :)"
   ]
  },
  {
   "cell_type": "code",
   "execution_count": 3,
   "metadata": {
    "_cell_guid": "e1b3fa79-11a1-411d-9c1d-77cdc23f0302",
    "_execution_state": "idle",
    "_uuid": "60e0fc0a9126916296141be26d54ae92763eb35b",
    "collapsed": true
   },
   "outputs": [],
   "source": [
    "import seaborn as sns\n",
    "import matplotlib.pyplot as plt"
   ]
  },
  {
   "cell_type": "code",
   "execution_count": 4,
   "metadata": {
    "_cell_guid": "5aff51dd-f89e-4888-a667-a5670276008d",
    "_execution_state": "idle",
    "_uuid": "d142164313cea19abf6ba8ca54a9476b1a80f587"
   },
   "outputs": [
    {
     "data": {
      "image/png": "[encoded data removed]",
      "text/plain": [
       "<matplotlib.figure.Figure at 0x1131d0d30>"
      ]
     },
     "metadata": {},
     "output_type": "display_data"
    }
   ],
   "source": [
    "sns.heatmap(data=train.corr())\n",
    "plt.show()\n",
    "plt.gcf().clear()"
   ]
  },
  {
   "cell_type": "markdown",
   "metadata": {
    "_cell_guid": "dcd252ad-3415-4fc5-ba0d-c8bdee498d0b",
    "_uuid": "13dd3a3add03d53724db73b570de08ed86f69564"
   },
   "source": [
    "Well what does this show us? For starters, 'Id' seems to be pretty irrelevant. Sometimes in Kaggle, the Id can represent some sort of temporal/ordinal factor, but it does not seem to be the case here. In any case, if some sort of temporal factor was present, we'd be able to get it from MoSold/YrSold, neither of which seem to possess much correlation.\n",
    "\n",
    "Luckily, SalePrice seems to have correlations with a fair few other features. Ones which particularly jump out are OverallQual and GrLivArea, which is not hugely surprising. We should expect to see these appearing high in feature importance measures later on.\n",
    "\n",
    "Finally, LotArea seems to be highly correlated, but missing a lot of values (over 200). This is important to note during imputation, and means we ought to spend a bit longer on this variable."
   ]
  },
  {
   "cell_type": "markdown",
   "metadata": {
    "_cell_guid": "bc156be0-c04b-45a2-aeca-678255f547c7",
    "_uuid": "d1168d9986204951048e723ed9b4181964044a54"
   },
   "source": [
    "## Skews"
   ]
  },
  {
   "cell_type": "markdown",
   "metadata": {
    "_cell_guid": "41264b3b-0b99-41fe-a4e8-8a45a31821ed",
    "_uuid": "e398f73828500a8b96465896a30f7b6e02e48052"
   },
   "source": [
    "Recall the form of a standard linear regression\n",
    "\n",
    "$$\n",
    "y = ax_1 + bx_2 + cx_3 + ...\n",
    "$$\n",
    "\n",
    "Clearly our dependant ($y$) needs to be proportional to the other variables. This cannot be the case if the $y$ is say skewed, but the other parameters are normally distributed. Whilst this shouldn't affect tree-based regressors, it can have a drastic impact on the performance of regression based algorithms (OLS, Lasso, Ridge, KRR, etc.).\n",
    "\n",
    "With this in mind, let's view the skews:"
   ]
  },
  {
   "cell_type": "code",
   "execution_count": 5,
   "metadata": {
    "_cell_guid": "30105def-1602-489e-852f-abc522286cf4",
    "_execution_state": "idle",
    "_uuid": "12decdb28204e924df6c7cf532b132af262a513b"
   },
   "outputs": [
    {
     "data": {
      "text/plain": [
       "Id                0.000000\n",
       "MSSubClass        1.407657\n",
       "LotFrontage       2.163569\n",
       "LotArea          12.207688\n",
       "OverallQual       0.216944\n",
       "OverallCond       0.693067\n",
       "YearBuilt        -0.613461\n",
       "YearRemodAdd     -0.503562\n",
       "MasVnrArea        2.669084\n",
       "BsmtFinSF1        1.685503\n",
       "BsmtFinSF2        4.255261\n",
       "BsmtUnfSF         0.920268\n",
       "TotalBsmtSF       1.524255\n",
       "1stFlrSF          1.376757\n",
       "2ndFlrSF          0.813030\n",
       "LowQualFinSF      9.011341\n",
       "GrLivArea         1.366560\n",
       "BsmtFullBath      0.596067\n",
       "BsmtHalfBath      4.103403\n",
       "FullBath          0.036562\n",
       "HalfBath          0.675897\n",
       "BedroomAbvGr      0.211790\n",
       "KitchenAbvGr      4.488397\n",
       "TotRmsAbvGrd      0.676341\n",
       "Fireplaces        0.649565\n",
       "GarageYrBlt      -0.649415\n",
       "GarageCars       -0.342549\n",
       "GarageArea        0.179981\n",
       "WoodDeckSF        1.541376\n",
       "OpenPorchSF       2.364342\n",
       "EnclosedPorch     3.089872\n",
       "3SsnPorch        10.304342\n",
       "ScreenPorch       4.122214\n",
       "PoolArea         14.828374\n",
       "MiscVal          24.476794\n",
       "MoSold            0.212053\n",
       "YrSold            0.096269\n",
       "SalePrice         1.882876\n",
       "dtype: float64"
      ]
     },
     "execution_count": 5,
     "metadata": {},
     "output_type": "execute_result"
    }
   ],
   "source": [
    "train.skew()"
   ]
  },
  {
   "cell_type": "markdown",
   "metadata": {
    "_cell_guid": "3902b5bd-ce5c-480c-828e-4775b9505e8f",
    "_uuid": "33e1901e5d2f57cf232bb94cddd5aa30138cde5f"
   },
   "source": [
    "Clearly some variables display intense skews, so we'll need to address this later on. Note at this point our target variable is skewed as well (SalePrice), so the potential issue highlighted above does indeed apply."
   ]
  },
  {
   "cell_type": "markdown",
   "metadata": {
    "_cell_guid": "05398545-4400-4060-a372-aa4d93ebf45e",
    "_uuid": "8f0aab1ca6d35cce246f8ddef7843ef8a54c186e"
   },
   "source": [
    "# 2. Create a Baseline Model"
   ]
  },
  {
   "cell_type": "markdown",
   "metadata": {
    "_cell_guid": "71c57a80-d263-4bf8-a948-3b535c5fd78b",
    "_uuid": "55b4aa5cc16fbbdb69562a74013d6b688cac1c15"
   },
   "source": [
    "Right, we've identified a few different things to try out, namely:\n",
    "\n",
    "1. Careful treatment of missing value imputation\n",
    "2. Converting categoricals into numericals\n",
    "3. Converting numericals into categoricals\n",
    "4. Unskewing variables\n",
    "\n",
    "Before we bulldoze in with these, it is best to get a quick baseline model with little to no data engineering so we can at least have some sort of benchmark against which we can assess the effectiveness of our engineering steps."
   ]
  },
  {
   "cell_type": "markdown",
   "metadata": {
    "_cell_guid": "e651efac-e181-43c6-a182-0f61722d6cff",
    "_uuid": "9cf117abac03fe345b0d824cd4cd998226dac26f"
   },
   "source": [
    "## Train"
   ]
  },
  {
   "cell_type": "markdown",
   "metadata": {
    "_cell_guid": "33f6ffd2-0feb-47ac-8e4b-fad828ef2897",
    "_uuid": "797c5ac722c045c6fc347a11681529fae6838e41"
   },
   "source": [
    "First steps, create a copy of the data, and turn the categorical data into dummy variables."
   ]
  },
  {
   "cell_type": "code",
   "execution_count": 6,
   "metadata": {
    "_cell_guid": "adf03b45-a638-46c1-9a79-a14df86acd9f",
    "_execution_state": "idle",
    "_uuid": "5da82d767d9afe96f54195a36db79c560ed48fb5",
    "collapsed": true
   },
   "outputs": [],
   "source": [
    "train_d = train.copy()\n",
    "train_d = pd.get_dummies(train_d)"
   ]
  },
  {
   "cell_type": "markdown",
   "metadata": {
    "_cell_guid": "7b06750b-03cc-480c-a698-e4e60b4b9fb6",
    "_uuid": "69746b41107b07c230ef13920239557051893a21"
   },
   "source": [
    "Now remove the original categorical variables (these will cause our SKLearn to spew out errors if left in)"
   ]
  },
  {
   "cell_type": "code",
   "execution_count": 7,
   "metadata": {
    "_cell_guid": "d2a50c7f-60b7-457e-80c7-e0b27e4ea460",
    "_execution_state": "idle",
    "_uuid": "2e682e9fe3017cf98087663893171d6ff70a6f70",
    "collapsed": true
   },
   "outputs": [],
   "source": [
    "keep_cols = train_d.select_dtypes(include=['number']).columns\n",
    "train_d = train_d[keep_cols]"
   ]
  },
  {
   "cell_type": "markdown",
   "metadata": {
    "_cell_guid": "0055e60b-012e-48f4-8640-13edf2c91251",
    "_uuid": "4ae7d4763fe9b5dcd7bb4df4488c19da8ee76bc4"
   },
   "source": [
    "Now fill the NAs with means (NAs will similarly cause errors)"
   ]
  },
  {
   "cell_type": "code",
   "execution_count": 8,
   "metadata": {
    "_cell_guid": "39aa0b1c-21b2-4751-9f13-9418d8a4739e",
    "_execution_state": "idle",
    "_uuid": "4ee08389f38549a355d369d57019a5b69d27f55a",
    "collapsed": true
   },
   "outputs": [],
   "source": [
    "train_d = train_d.fillna(train_d.mean())"
   ]
  },
  {
   "cell_type": "markdown",
   "metadata": {
    "_cell_guid": "094c8182-2505-40c9-9bfa-f4e2d74146ad",
    "_uuid": "c294629cf8bbeb86abd2a5bd8f867f92a03e9ce6"
   },
   "source": [
    "All done, let's do the test data."
   ]
  },
  {
   "cell_type": "markdown",
   "metadata": {
    "_cell_guid": "126e032a-49b8-4c13-8a43-af54ec5428ec",
    "_uuid": "0dea02575583e7c770456c1e75a17a36a218cd08"
   },
   "source": [
    "## Test"
   ]
  },
  {
   "cell_type": "code",
   "execution_count": 129,
   "metadata": {
    "_cell_guid": "3f077731-b389-4d14-b866-e92a38118753",
    "_execution_state": "idle",
    "_uuid": "8dfbeda49680372d15d86e18955a68ef96d2400d",
    "collapsed": true
   },
   "outputs": [],
   "source": [
    "test = pd.read_csv('test.csv')"
   ]
  },
  {
   "cell_type": "code",
   "execution_count": 10,
   "metadata": {
    "_cell_guid": "3419fc0c-b774-4972-b5a0-3c6006ccface",
    "_execution_state": "idle",
    "_uuid": "885487359780cbbba564c09d32cd05b185a3d817",
    "collapsed": true
   },
   "outputs": [],
   "source": [
    "test_d = test.copy()\n",
    "test_d = pd.get_dummies(test_d)"
   ]
  },
  {
   "cell_type": "code",
   "execution_count": 11,
   "metadata": {
    "_cell_guid": "d8b44f34-4921-4835-9c31-1201dfd7007e",
    "_execution_state": "idle",
    "_uuid": "a5e06d03f7fa66c848944499669f2640ea84f99a",
    "collapsed": true
   },
   "outputs": [],
   "source": [
    "test_d = test_d.fillna(test_d.mean())"
   ]
  },
  {
   "cell_type": "markdown",
   "metadata": {
    "_cell_guid": "d007fde3-a16a-4ca7-9b2f-d61036f40e97",
    "_uuid": "6ed022486a75caeb1de489e0ddf1416dedfcf82b"
   },
   "source": [
    "Some dummy variables exist in train but not test; create them in the test set and set to zero."
   ]
  },
  {
   "cell_type": "code",
   "execution_count": 12,
   "metadata": {
    "_cell_guid": "eb383818-b43c-4a1e-ab41-da81572031e3",
    "_execution_state": "idle",
    "_uuid": "e3e5764e9b7ac8c74b171e0bd25d2e794506d6a4",
    "collapsed": true
   },
   "outputs": [],
   "source": [
    "for col in keep_cols:\n",
    "    if col not in test_d:\n",
    "        test_d[col] = 0"
   ]
  },
  {
   "cell_type": "code",
   "execution_count": 13,
   "metadata": {
    "_cell_guid": "cb8de6cc-7a6e-46c9-a952-ebf41909c166",
    "_execution_state": "idle",
    "_uuid": "e4dd6b8cdfae455e3400c13f60f4c368f708ecc4",
    "collapsed": true
   },
   "outputs": [],
   "source": [
    "test_d = test_d[keep_cols]"
   ]
  },
  {
   "cell_type": "markdown",
   "metadata": {
    "_cell_guid": "c18bf26b-763a-46ef-99b6-31a58cf950c5",
    "_uuid": "edc896e23dfac2b27383cc5a7a5d9c8eaec15d8e"
   },
   "source": [
    "## Modelling"
   ]
  },
  {
   "cell_type": "markdown",
   "metadata": {
    "_cell_guid": "87cb4d7e-d249-4a85-8170-2d76ee9eb45f",
    "_uuid": "8539080fa8093b5fd0d8a6ea61962c7fa9c150f4"
   },
   "source": [
    "Let's use a random forest as this should partially remove the dependancy on skews that we have with linear regression based modelling. Furthermore, RFs tend to perform quite well in general. Let's take measures such as CrossVal score and perform a GridSearch over the hyperparameter space."
   ]
  },
  {
   "cell_type": "code",
   "execution_count": 14,
   "metadata": {
    "_cell_guid": "dad8c343-00cd-40b3-97f1-015b0c4c5990",
    "_execution_state": "idle",
    "_uuid": "d4a14c1062ea661c4b881ab6b715e3312e1bc487",
    "collapsed": true
   },
   "outputs": [],
   "source": [
    "from sklearn.ensemble import RandomForestRegressor\n",
    "from sklearn.model_selection import cross_val_score\n",
    "from sklearn.model_selection import GridSearchCV"
   ]
  },
  {
   "cell_type": "code",
   "execution_count": 15,
   "metadata": {
    "_cell_guid": "95a90169-7b0e-4032-b1fd-ea538ab195b5",
    "_uuid": "afe1a30fc4be51d3b821d22f66f99fcc04cbabec"
   },
   "outputs": [
    {
     "name": "stdout",
     "output_type": "stream",
     "text": [
      "Fitting 5 folds for each of 9 candidates, totalling 45 fits\n",
      "[CV] max_features=100, max_depth=20, n_estimators=500 ................\n",
      "[CV] max_features=100, max_depth=20, n_estimators=500 ................\n",
      "[CV] max_features=100, max_depth=20, n_estimators=500 ................\n",
      "[CV] max_features=100, max_depth=20, n_estimators=500 ................\n",
      "[CV]  max_features=100, max_depth=20, n_estimators=500, score=0.8717376176382379, total=  10.1s\n",
      "[CV]  max_features=100, max_depth=20, n_estimators=500, score=0.8450099530424443, total=  10.2s\n",
      "[CV]  max_features=100, max_depth=20, n_estimators=500, score=0.8949543955926036, total=  10.2s\n",
      "[CV]  max_features=100, max_depth=20, n_estimators=500, score=0.8966532660656006, total=  10.1s\n",
      "[CV] max_features=100, max_depth=20, n_estimators=500 ................\n",
      "[CV] max_features=140, max_depth=20, n_estimators=500 ................\n",
      "[CV] max_features=140, max_depth=20, n_estimators=500 ................\n",
      "[CV] max_features=140, max_depth=20, n_estimators=500 ................\n",
      "[CV]  max_features=100, max_depth=20, n_estimators=500, score=0.8449661474382382, total=  10.5s\n",
      "[CV] max_features=140, max_depth=20, n_estimators=500 ................\n",
      "[CV]  max_features=140, max_depth=20, n_estimators=500, score=0.8922960192638237, total=  12.9s\n",
      "[CV]  max_features=140, max_depth=20, n_estimators=500, score=0.8370703478374057, total=  12.9s\n",
      "[CV] max_features=140, max_depth=20, n_estimators=500 ................\n",
      "[CV] max_features=160, max_depth=20, n_estimators=500 ................\n",
      "[CV]  max_features=140, max_depth=20, n_estimators=500, score=0.8712577789908462, total=  12.9s\n",
      "[CV] max_features=160, max_depth=20, n_estimators=500 ................\n",
      "[CV]  max_features=140, max_depth=20, n_estimators=500, score=0.8951695134862304, total=  13.3s\n",
      "[CV] max_features=160, max_depth=20, n_estimators=500 ................\n",
      "[CV]  max_features=140, max_depth=20, n_estimators=500, score=0.8408982219135414, total=  14.0s\n",
      "[CV] max_features=160, max_depth=20, n_estimators=500 ................\n",
      "[CV]  max_features=160, max_depth=20, n_estimators=500, score=0.8906855670175792, total=  14.9s\n",
      "[CV] max_features=160, max_depth=20, n_estimators=500 ................\n",
      "[CV]  max_features=160, max_depth=20, n_estimators=500, score=0.842480074393138, total=  15.0s\n",
      "[CV] max_features=100, max_depth=30, n_estimators=500 ................\n",
      "[CV]  max_features=160, max_depth=20, n_estimators=500, score=0.8731264204264791, total=  17.2s\n",
      "[CV] max_features=100, max_depth=30, n_estimators=500 ................\n",
      "[CV]  max_features=100, max_depth=30, n_estimators=500, score=0.8961583961541155, total=  13.4s\n",
      "[CV] max_features=100, max_depth=30, n_estimators=500 ................\n",
      "[CV]  max_features=160, max_depth=20, n_estimators=500, score=0.8911637988696189, total=  16.7s\n",
      "[CV] max_features=100, max_depth=30, n_estimators=500 ................\n",
      "[CV]  max_features=160, max_depth=20, n_estimators=500, score=0.8392126961698809, total=  16.7s\n",
      "[CV] max_features=100, max_depth=30, n_estimators=500 ................\n",
      "[CV]  max_features=100, max_depth=30, n_estimators=500, score=0.8403612160108387, total=  12.4s\n",
      "[CV] max_features=140, max_depth=30, n_estimators=500 ................\n",
      "[CV]  max_features=100, max_depth=30, n_estimators=500, score=0.8699873877337224, total=  12.4s\n",
      "[CV] max_features=140, max_depth=30, n_estimators=500 ................\n",
      "[CV]  max_features=100, max_depth=30, n_estimators=500, score=0.8909165430263136, total=  12.6s\n",
      "[CV] max_features=140, max_depth=30, n_estimators=500 ................\n",
      "[CV]  max_features=100, max_depth=30, n_estimators=500, score=0.8485174003257164, total=  13.0s\n",
      "[CV] max_features=140, max_depth=30, n_estimators=500 ................\n",
      "[CV]  max_features=140, max_depth=30, n_estimators=500, score=0.8916709142811603, total=  16.1s\n",
      "[CV] max_features=140, max_depth=30, n_estimators=500 ................\n",
      "[CV]  max_features=140, max_depth=30, n_estimators=500, score=0.8378017271475796, total=  16.5s\n",
      "[CV] max_features=160, max_depth=30, n_estimators=500 ................\n",
      "[CV]  max_features=140, max_depth=30, n_estimators=500, score=0.8720160915548197, total=  16.2s\n",
      "[CV] max_features=160, max_depth=30, n_estimators=500 ................\n",
      "[CV]  max_features=140, max_depth=30, n_estimators=500, score=0.8939249247974445, total=  16.2s\n",
      "[CV] max_features=160, max_depth=30, n_estimators=500 ................\n"
     ]
    },
    {
     "name": "stderr",
     "output_type": "stream",
     "text": [
      "[Parallel(n_jobs=-1)]: Done  24 tasks      | elapsed:  1.4min\n"
     ]
    },
    {
     "name": "stdout",
     "output_type": "stream",
     "text": [
      "[CV]  max_features=140, max_depth=30, n_estimators=500, score=0.8410563620416486, total=  15.3s\n",
      "[CV] max_features=160, max_depth=30, n_estimators=500 ................\n",
      "[CV]  max_features=160, max_depth=30, n_estimators=500, score=0.8884658813841241, total=  17.0s\n",
      "[CV] max_features=160, max_depth=30, n_estimators=500 ................\n",
      "[CV]  max_features=160, max_depth=30, n_estimators=500, score=0.8417172633006158, total=  17.5s\n",
      "[CV] max_features=100, max_depth=40, n_estimators=500 ................\n",
      "[CV]  max_features=160, max_depth=30, n_estimators=500, score=0.8722736559282445, total=  17.7s\n",
      "[CV] max_features=100, max_depth=40, n_estimators=500 ................\n",
      "[CV]  max_features=160, max_depth=30, n_estimators=500, score=0.8920969072584214, total=  17.4s\n",
      "[CV] max_features=100, max_depth=40, n_estimators=500 ................\n",
      "[CV]  max_features=100, max_depth=40, n_estimators=500, score=0.8972752579690704, total=  13.9s\n",
      "[CV] max_features=100, max_depth=40, n_estimators=500 ................\n",
      "[CV]  max_features=160, max_depth=30, n_estimators=500, score=0.8359874830709875, total=  17.3s\n",
      "[CV] max_features=100, max_depth=40, n_estimators=500 ................\n",
      "[CV]  max_features=100, max_depth=40, n_estimators=500, score=0.8374685990226426, total=  14.0s\n",
      "[CV] max_features=140, max_depth=40, n_estimators=500 ................\n",
      "[CV]  max_features=100, max_depth=40, n_estimators=500, score=0.8654758257012783, total=  12.6s\n",
      "[CV] max_features=140, max_depth=40, n_estimators=500 ................\n",
      "[CV]  max_features=100, max_depth=40, n_estimators=500, score=0.8965563440400054, total=  12.6s\n",
      "[CV] max_features=140, max_depth=40, n_estimators=500 ................\n",
      "[CV]  max_features=100, max_depth=40, n_estimators=500, score=0.8447309582089249, total=  12.7s\n",
      "[CV] max_features=140, max_depth=40, n_estimators=500 ................\n",
      "[CV]  max_features=140, max_depth=40, n_estimators=500, score=0.8917093242091554, total=  14.4s\n",
      "[CV] max_features=140, max_depth=40, n_estimators=500 ................\n",
      "[CV]  max_features=140, max_depth=40, n_estimators=500, score=0.8350363217527171, total=  14.3s\n",
      "[CV] max_features=160, max_depth=40, n_estimators=500 ................\n",
      "[CV]  max_features=140, max_depth=40, n_estimators=500, score=0.8733601787435086, total=  14.6s\n",
      "[CV] max_features=160, max_depth=40, n_estimators=500 ................\n",
      "[CV]  max_features=140, max_depth=40, n_estimators=500, score=0.8974908833359783, total=  14.9s\n",
      "[CV] max_features=160, max_depth=40, n_estimators=500 ................\n",
      "[CV]  max_features=140, max_depth=40, n_estimators=500, score=0.8397397545968605, total=  14.9s\n",
      "[CV] max_features=160, max_depth=40, n_estimators=500 ................\n",
      "[CV]  max_features=160, max_depth=40, n_estimators=500, score=0.8881949499792879, total=  15.1s\n",
      "[CV] max_features=160, max_depth=40, n_estimators=500 ................\n",
      "[CV]  max_features=160, max_depth=40, n_estimators=500, score=0.8431664197631026, total=  14.6s\n",
      "[CV]  max_features=160, max_depth=40, n_estimators=500, score=0.8708811567917357, total=  14.7s\n",
      "[CV]  max_features=160, max_depth=40, n_estimators=500, score=0.8931469300609004, total=  13.9s\n",
      "[CV]  max_features=160, max_depth=40, n_estimators=500, score=0.8396115710443819, total=   6.6s\n"
     ]
    },
    {
     "name": "stderr",
     "output_type": "stream",
     "text": [
      "[Parallel(n_jobs=-1)]: Done  45 out of  45 | elapsed:  2.8min finished\n"
     ]
    },
    {
     "data": {
      "text/plain": [
       "GridSearchCV(cv=5, error_score='raise',\n",
       "       estimator=RandomForestRegressor(bootstrap=True, criterion='mse', max_depth=None,\n",
       "           max_features='auto', max_leaf_nodes=None,\n",
       "           min_impurity_decrease=0.0, min_impurity_split=None,\n",
       "           min_samples_leaf=1, min_samples_split=2,\n",
       "           min_weight_fraction_leaf=0.0, n_estimators=10, n_jobs=-1,\n",
       "           oob_score=False, random_state=None, verbose=0, warm_start=False),\n",
       "       fit_params=None, iid=True, n_jobs=-1,\n",
       "       param_grid={'max_features': [100, 140, 160], 'max_depth': [20, 30, 40], 'n_estimators': [500]},\n",
       "       pre_dispatch='2*n_jobs', refit=True, return_train_score=True,\n",
       "       scoring=None, verbose=3)"
      ]
     },
     "execution_count": 15,
     "metadata": {},
     "output_type": "execute_result"
    }
   ],
   "source": [
    "rf_test = RandomForestRegressor(n_jobs = -1)\n",
    "params = {'max_depth': [20,30,40], 'n_estimators': [500], 'max_features': [100,140,160]}\n",
    "gsCV = GridSearchCV(estimator = rf_test, param_grid = params, cv = 5, n_jobs = -1, verbose = 3)\n",
    "gsCV.fit(train_d.drop('SalePrice',axis = 1),train_d['SalePrice'])"
   ]
  },
  {
   "cell_type": "code",
   "execution_count": 16,
   "metadata": {
    "_cell_guid": "a8524bc9-4956-43a6-8399-b8f2d520ed32",
    "_uuid": "ebf8f2c4a5896b637d1aa7d534012d62a431f37c"
   },
   "outputs": [
    {
     "name": "stdout",
     "output_type": "stream",
     "text": [
      "RandomForestRegressor(bootstrap=True, criterion='mse', max_depth=20,\n",
      "           max_features=100, max_leaf_nodes=None,\n",
      "           min_impurity_decrease=0.0, min_impurity_split=None,\n",
      "           min_samples_leaf=1, min_samples_split=2,\n",
      "           min_weight_fraction_leaf=0.0, n_estimators=500, n_jobs=-1,\n",
      "           oob_score=False, random_state=None, verbose=0, warm_start=False)\n"
     ]
    }
   ],
   "source": [
    "print(gsCV.best_estimator_)"
   ]
  },
  {
   "cell_type": "markdown",
   "metadata": {
    "_cell_guid": "463b0ce9-d57a-4c18-b18a-cb96929cbb4b",
    "_uuid": "8ebf64154532922c75f6e6824382e6ad6d9c3c20"
   },
   "source": [
    "(NB: I will stop Grid Searching henceforth and just print the best hyperparameters as it takes ages and only needs to be demonstrated once)"
   ]
  },
  {
   "cell_type": "code",
   "execution_count": 19,
   "metadata": {
    "_cell_guid": "4f5ec57b-9490-49b6-a8f6-bb216fc94b2f",
    "_execution_state": "idle",
    "_uuid": "e233a1e95c3591a6cc564c0309ed65a43b2cb6c7",
    "collapsed": true
   },
   "outputs": [],
   "source": [
    "rf_test = RandomForestRegressor(max_depth=20, n_estimators=500, max_features = 100, \n",
    "                                n_jobs=-1, oob_score=True, random_state=1234)\n",
    "cv_score = cross_val_score(rf_test, train_d.drop('SalePrice', axis = 1), train_d['SalePrice'], cv = 5, n_jobs = -1)"
   ]
  },
  {
   "cell_type": "code",
   "execution_count": 20,
   "metadata": {
    "_cell_guid": "8d31a8a5-3c7a-4f30-a8b4-c02f86388fb2",
    "_execution_state": "idle",
    "_uuid": "90dfcd639cc6787646497005f9c327d4b90febaa"
   },
   "outputs": [
    {
     "name": "stdout",
     "output_type": "stream",
     "text": [
      "CV Score is: 0.869510076759356\n"
     ]
    }
   ],
   "source": [
    "print('CV Score is: '+ str(np.mean(cv_score)))"
   ]
  },
  {
   "cell_type": "code",
   "execution_count": 23,
   "metadata": {
    "collapsed": true
   },
   "outputs": [],
   "source": [
    "#fast try and submit\n",
    "rf_test.fit(train_d.drop('SalePrice',axis = 1),train_d['SalePrice'])\n",
    "pred = rf_test.predict(test_d.drop('SalePrice', axis = 1))\n",
    "sub = pd.DataFrame()\n",
    "sub['Id'] = test['Id']\n",
    "sub['SalePrice'] = pred\n",
    "sub.to_csv('fastTry.csv', index = False)\n",
    "#0.14629"
   ]
  },
  {
   "cell_type": "markdown",
   "metadata": {
    "_cell_guid": "7b27d501-b5c6-45aa-a181-3caeade687b7",
    "_uuid": "0f1d6a5785067f8ebf11acdee1312dc5561b7fc1"
   },
   "source": [
    "The R^2 score seems strong. Submitting the outputs from the model nets us a score of 0.14636, which is actually pretty decent, but puts us in the top 65%. This also shows the strength of this competition; whilst the difference in this and a top 10% score (0.116x) is minimal, in reality 55% of the competition stands between us and our goal! A bit harder than the Titanic one I think...\n",
    "\n",
    "It's a good thing then that we've got a few ideas down our sleaves, let's get on with it."
   ]
  },
  {
   "cell_type": "markdown",
   "metadata": {
    "_cell_guid": "edc09216-9cfc-4db8-a2e5-107bd15a8856",
    "_uuid": "427c3e2fdc221e7ca5ec931dc49b4c0c6e6411e0"
   },
   "source": [
    "# 3. Feature Engineering: First Pass"
   ]
  },
  {
   "cell_type": "markdown",
   "metadata": {
    "_cell_guid": "09ca315a-a327-4908-ba78-ef3901248b1a",
    "_uuid": "7693405ccbf89a89d1d4c913c56c32175bd69ffb"
   },
   "source": [
    "We'll try a few things:\n",
    "\n",
    "1. LotFrontage Imputation\n",
    "2. Medians vs Means\n",
    "3. Numeric to Categoric\n",
    "4. Categoric to Numerical\n",
    "5. Dropping columns\n",
    "6. 'None' vs NA\n",
    "7. Unskewing data\n",
    "\n",
    "and see where we end up."
   ]
  },
  {
   "cell_type": "markdown",
   "metadata": {
    "_cell_guid": "8ea9ec08-4378-49e0-a58b-239730f122d8",
    "_uuid": "604cc7da3c820729027b4364dd6bff15cef79a0c"
   },
   "source": [
    "## 1. LotFrontage Imputation"
   ]
  },
  {
   "cell_type": "markdown",
   "metadata": {
    "_cell_guid": "4618bf63-0ecf-40ca-8cea-68fd25528bff",
    "_uuid": "c5d01ed137e7553b02c9ff3fab0a4100b4c5a987"
   },
   "source": [
    "We've identified LotFrontage as a potential sticking point, so let's think of how to address this. Either we can use just 0s (as these houses don't have fronts, so this is technically true), or impute values based on medians, be it a global median or some sort of conditional median. Let's try 0s and conditional medians, and see what works better."
   ]
  },
  {
   "cell_type": "markdown",
   "metadata": {
    "_cell_guid": "b00b6433-54fc-424a-b81a-6518fe1fe80c",
    "_uuid": "f381003f2c96c8ce2cddd65c6e1ff60fadbbe711"
   },
   "source": [
    "### 0s"
   ]
  },
  {
   "cell_type": "code",
   "execution_count": 24,
   "metadata": {
    "_cell_guid": "6e4d2696-5571-430f-bd00-195630d08f96",
    "_execution_state": "idle",
    "_uuid": "ff2c17f84ba3fcfeae519ee739b91c0820bac63f",
    "collapsed": true
   },
   "outputs": [],
   "source": [
    "train_0 = train.copy()"
   ]
  },
  {
   "cell_type": "code",
   "execution_count": 25,
   "metadata": {
    "_cell_guid": "a60f759a-1719-4ccd-9aef-2e5d381238e7",
    "_execution_state": "idle",
    "_uuid": "4034736c3b6a426f3d47c0931a832f27124cc849",
    "collapsed": true
   },
   "outputs": [],
   "source": [
    "null_index = train_0.LotFrontage.isnull()\n",
    "train_0.loc[null_index,'LotFrontage'] = 0"
   ]
  },
  {
   "cell_type": "code",
   "execution_count": 26,
   "metadata": {
    "_cell_guid": "a2041686-9782-401f-b689-441b54483387",
    "_execution_state": "idle",
    "_uuid": "f83da40d4ea3908ac37a8b0d3f3bdcee1340ed6f",
    "collapsed": true
   },
   "outputs": [],
   "source": [
    "train_0 = pd.get_dummies(train_0)"
   ]
  },
  {
   "cell_type": "code",
   "execution_count": 27,
   "metadata": {
    "_cell_guid": "ddd05d90-7ee1-413a-8921-29759020aa5d",
    "_execution_state": "idle",
    "_uuid": "bf7503fba351362f86033915c43139b3181e0e99",
    "collapsed": true
   },
   "outputs": [],
   "source": [
    "keep_cols = train_0.select_dtypes(include=['number']).columns\n",
    "train_0 = train_0[keep_cols]"
   ]
  },
  {
   "cell_type": "code",
   "execution_count": 28,
   "metadata": {
    "_cell_guid": "acaa662e-568c-4b4f-83e4-c1bd3dbdad10",
    "_execution_state": "idle",
    "_uuid": "66ce14ffa8719f918884fe4028a7890ba0b455d1",
    "collapsed": true
   },
   "outputs": [],
   "source": [
    "train_0 = train_0.fillna(train_0.mean())"
   ]
  },
  {
   "cell_type": "code",
   "execution_count": 29,
   "metadata": {
    "_cell_guid": "24493d35-ea11-4ae7-a7c6-533b9215c96b",
    "_execution_state": "idle",
    "_uuid": "e606f45dee8234ff2c5427b01528b0cdddde78d5",
    "collapsed": true
   },
   "outputs": [],
   "source": [
    "rf_test = RandomForestRegressor(max_depth=20, n_estimators=500, max_features = 100, oob_score=True,\n",
    "                                n_jobs=-1, random_state=1234)\n",
    "cv_score = cross_val_score(rf_test, train_0.drop('SalePrice', axis = 1), train_0['SalePrice'], cv = 5, n_jobs=-1)"
   ]
  },
  {
   "cell_type": "code",
   "execution_count": 30,
   "metadata": {
    "_cell_guid": "fe23a634-4b7e-4c59-8b31-516c68142256",
    "_execution_state": "idle",
    "_uuid": "e621a7c355bd0fcc43af6a9c98dbe02ffe6d9a6d"
   },
   "outputs": [
    {
     "name": "stdout",
     "output_type": "stream",
     "text": [
      "CV Score is: 0.8688937772638203\n"
     ]
    }
   ],
   "source": [
    "print('CV Score is: '+ str(np.mean(cv_score)))"
   ]
  },
  {
   "cell_type": "markdown",
   "metadata": {
    "_cell_guid": "db228556-75ce-471a-acc6-9077a8bf55e6",
    "_uuid": "67a1f545aafe407a38d2130b69ae32b02f03e0fa"
   },
   "source": [
    "This scores basically no difference in-sample, so let's refrain from using this."
   ]
  },
  {
   "cell_type": "markdown",
   "metadata": {
    "_cell_guid": "3169ad45-dad6-465d-9f15-f6fc53b5ac15",
    "_uuid": "1a1f915978ecc3787c9113e4d4da8328776178df"
   },
   "source": [
    "### Conditional Medians"
   ]
  },
  {
   "cell_type": "markdown",
   "metadata": {
    "_cell_guid": "0849fb67-3bfb-48a9-8337-b242325cdf55",
    "_uuid": "898faa7265c8c7ee3c0ada7146209085969bd64e"
   },
   "source": [
    "Perhaps we should impute medians, i.e.: pretend that these properties had lots. In reality it's usually good enough to just use a generic median, but let's try to be clever. In my experience, it would make sense for lot size to be related to the areas in which houses are located. Let's see if there's any significant difference conditioning on neighbourhood. "
   ]
  },
  {
   "cell_type": "code",
   "execution_count": 31,
   "metadata": {
    "_cell_guid": "60aebbd5-1875-4dcc-bb68-ec61a760b010",
    "_execution_state": "idle",
    "_uuid": "0116d1073ca6ef4fa68466f60db4bab3eb247b2f"
   },
   "outputs": [
    {
     "name": "stderr",
     "output_type": "stream",
     "text": [
      "/Users/KunWuYao/anaconda/lib/python3.5/site-packages/seaborn/categorical.py:1460: FutureWarning: remove_na is deprecated and is a private function. Do not use.\n",
      "  stat_data = remove_na(group_data)\n"
     ]
    },
    {
     "data": {
      "image/png": "[encoded data removed]",
      "text/plain": [
       "<matplotlib.figure.Figure at 0x11008ae48>"
      ]
     },
     "metadata": {},
     "output_type": "display_data"
    }
   ],
   "source": [
    "sns.barplot(data=train,x='Neighborhood',y='LotFrontage', estimator=np.median)\n",
    "plt.xticks(rotation=90)\n",
    "plt.show()\n",
    "plt.gcf().clear()"
   ]
  },
  {
   "cell_type": "markdown",
   "metadata": {
    "_cell_guid": "80dca146-6109-4287-a010-9696eadeb396",
    "_uuid": "c1034978db06e210647f0bbd72ced68915daee5e"
   },
   "source": [
    "Looks like a good thing to condition on. Let's use this instead."
   ]
  },
  {
   "cell_type": "code",
   "execution_count": 32,
   "metadata": {
    "_cell_guid": "e3089c3f-2cfb-4493-8493-e5cb2270bfc0",
    "_execution_state": "idle",
    "_uuid": "b16911ae2ea490425bc65d1b4f3efa1002b182ed",
    "collapsed": true
   },
   "outputs": [],
   "source": [
    "gb_neigh_LF = train['LotFrontage'].groupby(train['Neighborhood'])"
   ]
  },
  {
   "cell_type": "code",
   "execution_count": 33,
   "metadata": {
    "_cell_guid": "bd39cc70-4e2e-4bfe-a89b-50e9aa622dca",
    "_execution_state": "idle",
    "_uuid": "ee13e6c58a12864c327d5bc7e0db44ea854f46bd",
    "collapsed": true
   },
   "outputs": [],
   "source": [
    "train_LFm = train.copy()"
   ]
  },
  {
   "cell_type": "code",
   "execution_count": 34,
   "metadata": {
    "_cell_guid": "3a47d629-ba13-419a-ae23-af11ed632636",
    "_execution_state": "idle",
    "_uuid": "b2845339764b7642d57e2511d23f1e2d53ab17be",
    "collapsed": true
   },
   "outputs": [],
   "source": [
    "# for the key (the key is neighborhood in this case), and the group object (group is LotFrontage grouped by Neighborhood) \n",
    "# associated with it...\n",
    "for key,group in gb_neigh_LF:\n",
    "    # find where we are both simultaneously missing values and where the key exists\n",
    "    lot_f_nulls_nei = train['LotFrontage'].isnull() & (train['Neighborhood'] == key)\n",
    "    # fill in those blanks with the median of the key's group object\n",
    "    train_LFm.loc[lot_f_nulls_nei,'LotFrontage'] = group.median()"
   ]
  },
  {
   "cell_type": "markdown",
   "metadata": {
    "_cell_guid": "09caee86-db47-4b9f-bdaa-5686017f3d57",
    "_uuid": "6db742b8b6e7a784b14a40feace8b5029c9b38c9"
   },
   "source": [
    "Does this help? Let's see."
   ]
  },
  {
   "cell_type": "code",
   "execution_count": 35,
   "metadata": {
    "_cell_guid": "91ca5895-522d-478d-8c17-b91119a3ccc1",
    "_execution_state": "idle",
    "_uuid": "08b26002dbb343d47238f4053a929c9b5c702ca0",
    "collapsed": true
   },
   "outputs": [],
   "source": [
    "train_LFm = pd.get_dummies(train_LFm)"
   ]
  },
  {
   "cell_type": "code",
   "execution_count": 36,
   "metadata": {
    "_cell_guid": "834437ae-faa2-43bf-8914-e17c12cd7ace",
    "_execution_state": "idle",
    "_uuid": "15bc0d44c2703e2318fca7941d3c42e65ad422d8",
    "collapsed": true
   },
   "outputs": [],
   "source": [
    "keep_cols = train_LFm.select_dtypes(include=['number']).columns\n",
    "train_LFm = train_LFm[keep_cols]"
   ]
  },
  {
   "cell_type": "code",
   "execution_count": 37,
   "metadata": {
    "_cell_guid": "13e985ed-4d04-4184-a29b-df9b078b7379",
    "_execution_state": "idle",
    "_uuid": "4abb0f858050a19f746b5ac22f78e39b7ccf9981",
    "collapsed": true
   },
   "outputs": [],
   "source": [
    "train_LFm = train_LFm.fillna(train_LFm.mean())"
   ]
  },
  {
   "cell_type": "code",
   "execution_count": 38,
   "metadata": {
    "_cell_guid": "854debdd-6893-4a64-a6e9-8e19ab396b35",
    "_execution_state": "idle",
    "_uuid": "e650b4ea3bfc58eb281299a800143a01ed6b7896",
    "collapsed": true
   },
   "outputs": [],
   "source": [
    "rf_test = RandomForestRegressor(max_depth=20, n_estimators=500, max_features = 100, oob_score=True, \n",
    "                                n_jobs=-1, random_state= 1234)\n",
    "cv_score = cross_val_score(rf_test, train_LFm.drop('SalePrice', axis = 1), train_LFm['SalePrice'], cv = 5, n_jobs=-1)"
   ]
  },
  {
   "cell_type": "code",
   "execution_count": 39,
   "metadata": {
    "_cell_guid": "663d77fe-a68b-4c4b-b6a9-4d1fe0afd922",
    "_execution_state": "idle",
    "_uuid": "bc64fe537763529e33e5a30dcee2e35c949a1170"
   },
   "outputs": [
    {
     "name": "stdout",
     "output_type": "stream",
     "text": [
      "CV Score is: 0.868806640260345\n"
     ]
    }
   ],
   "source": [
    "print('CV Score is: '+ str(np.mean(cv_score)))"
   ]
  },
  {
   "cell_type": "markdown",
   "metadata": {
    "_cell_guid": "9213751b-d516-4d8d-97e8-d4769fad78cd",
    "_uuid": "b20b4e55018c4d4fbc9d10ff0dcdc882e14e0dde"
   },
   "source": [
    "Again very similar. We will need to impute this at some point, as the non-tree based algorithms will require this. It seems to perform mildly better than turning it into 0s, but it's incredibly close. Let's go with this for now."
   ]
  },
  {
   "cell_type": "markdown",
   "metadata": {
    "_cell_guid": "b3f94602-d326-48a7-9595-8a2a8c2992d5",
    "_uuid": "084e386be10751bdfbc02bc5cb5e4f1c99a06479"
   },
   "source": [
    "## 2. Medians vs Means"
   ]
  },
  {
   "cell_type": "markdown",
   "metadata": {
    "_cell_guid": "662bb279-1e87-4ebf-a81c-d155756a58eb",
    "_uuid": "0f0909936c3c14a6e17f1b888f8ab77267d107ac"
   },
   "source": [
    "In my haste I ran with means instead of the medians. Of course as any good statistician will tell you, a median is a more robust statistic than a mean as it's less/not affected by outliers. Let's see if converting to a different statistic will affect our model's ability to generalise."
   ]
  },
  {
   "cell_type": "code",
   "execution_count": 40,
   "metadata": {
    "_cell_guid": "b81da07e-65bb-4525-81cc-4c81e7edbb9b",
    "_execution_state": "idle",
    "_uuid": "a6150d5c7d4cfbdbe91c99425806f0e69b11949f",
    "collapsed": true
   },
   "outputs": [],
   "source": [
    "train_med = train.copy()"
   ]
  },
  {
   "cell_type": "code",
   "execution_count": 41,
   "metadata": {
    "_cell_guid": "0eb4f9ae-2ad1-4418-84dd-240c62b8be73",
    "_execution_state": "idle",
    "_uuid": "15e821b71d0b6207c1a8d5fc2c398182d995e914",
    "collapsed": true
   },
   "outputs": [],
   "source": [
    "# for the key (the key is neighborhood in this case), and the group object (group is LotFrontage grouped by Neighborhood) \n",
    "# associated with it...\n",
    "for key,group in gb_neigh_LF:\n",
    "    # find where we are both simultaneously missing values and where the key exists\n",
    "    lot_f_nulls_nei = train['LotFrontage'].isnull() & (train['Neighborhood'] == key)\n",
    "    # fill in those blanks with the median of the key's group object\n",
    "    train_med.loc[lot_f_nulls_nei,'LotFrontage'] = group.median()"
   ]
  },
  {
   "cell_type": "code",
   "execution_count": 42,
   "metadata": {
    "_cell_guid": "50dbb497-4eb7-4a7c-8f1d-774e026b6c6b",
    "_execution_state": "idle",
    "_uuid": "1b57213ab67a3a60e7070e39ce9988fc1827350c",
    "collapsed": true
   },
   "outputs": [],
   "source": [
    "train_med = pd.get_dummies(train_med)"
   ]
  },
  {
   "cell_type": "code",
   "execution_count": 43,
   "metadata": {
    "_cell_guid": "45005295-522b-41cb-aca6-c11a3250bc7f",
    "_execution_state": "idle",
    "_uuid": "f219448a53be62d7b7c7f82f31c8637217456fbb",
    "collapsed": true
   },
   "outputs": [],
   "source": [
    "keep_cols = train_med.select_dtypes(include=['number']).columns\n",
    "train_med = train_med[keep_cols]"
   ]
  },
  {
   "cell_type": "code",
   "execution_count": 44,
   "metadata": {
    "_cell_guid": "78f284a9-8c59-4976-8452-b58afd33cd0e",
    "_execution_state": "idle",
    "_uuid": "cb8249445d9de4101225ba9a5d3cefb885533ca7",
    "collapsed": true
   },
   "outputs": [],
   "source": [
    "train_med = train_med.fillna(train_med.median())"
   ]
  },
  {
   "cell_type": "code",
   "execution_count": 49,
   "metadata": {
    "_cell_guid": "c9c4a81b-074e-41e8-9c58-5bbb28447998",
    "_execution_state": "idle",
    "_uuid": "717695816964e1dc3442ae6d8d53a4cb34fd26e4",
    "collapsed": true
   },
   "outputs": [],
   "source": [
    "rf_test = RandomForestRegressor(max_depth=30, n_estimators=500, max_features = 100, oob_score=True, \n",
    "                                n_jobs=-1, random_state=1234)\n",
    "cv_score = cross_val_score(rf_test, train_med.drop('SalePrice', axis = 1), train_med['SalePrice'], cv = 5, n_jobs=-1)"
   ]
  },
  {
   "cell_type": "code",
   "execution_count": 50,
   "metadata": {
    "_cell_guid": "a2e24511-ae8e-467d-87fa-f3462d93fe18",
    "_execution_state": "idle",
    "_uuid": "25be7bef963ad426c47e448c1e2c52f0d8f8752a"
   },
   "outputs": [
    {
     "name": "stdout",
     "output_type": "stream",
     "text": [
      "CV Score is: 0.8699353054451968\n"
     ]
    }
   ],
   "source": [
    "print('CV Score is: '+ str(np.mean(cv_score)))"
   ]
  },
  {
   "cell_type": "markdown",
   "metadata": {
    "_cell_guid": "d6c83463-c3bc-42d8-becf-99f743f7ea25",
    "_uuid": "bd0e0dd2edee5173932d5fc12116494948b72a5e"
   },
   "source": [
    "Again a slight increase. Let's see how we're doing on the leaderboard now as a quick check."
   ]
  },
  {
   "cell_type": "code",
   "execution_count": 51,
   "metadata": {
    "_cell_guid": "1cac4264-e3b1-4987-876b-08c9c1de0a39",
    "_execution_state": "idle",
    "_uuid": "5b048b3662151bd66ec163f198f20f677e16c2dc"
   },
   "outputs": [
    {
     "data": {
      "text/plain": [
       "RandomForestRegressor(bootstrap=True, criterion='mse', max_depth=30,\n",
       "           max_features=100, max_leaf_nodes=None,\n",
       "           min_impurity_decrease=0.0, min_impurity_split=None,\n",
       "           min_samples_leaf=1, min_samples_split=2,\n",
       "           min_weight_fraction_leaf=0.0, n_estimators=500, n_jobs=-1,\n",
       "           oob_score=True, random_state=1234, verbose=0, warm_start=False)"
      ]
     },
     "execution_count": 51,
     "metadata": {},
     "output_type": "execute_result"
    }
   ],
   "source": [
    "rf_test.fit(train_med.drop('SalePrice',axis = 1),train_med['SalePrice'])"
   ]
  },
  {
   "cell_type": "code",
   "execution_count": 59,
   "metadata": {
    "collapsed": true
   },
   "outputs": [],
   "source": [
    "pred = rf_test.predict(test_d.drop('SalePrice', axis = 1))\n",
    "sub = pd.DataFrame()\n",
    "sub['Id'] = test['Id']\n",
    "sub['SalePrice'] = pred\n",
    "sub.to_csv('medTry.csv', index = False)\n",
    "#0.14635 no better!"
   ]
  },
  {
   "cell_type": "markdown",
   "metadata": {
    "_cell_guid": "61dd6481-a4b9-40cb-bb88-9e447998194f",
    "_uuid": "c6a3bf7b37023681caaec32d150cc4cb18ed7281"
   },
   "source": [
    "The score is now 0.14559, which is a very marginal improvement. Having said this, such small gains will make all the difference between the top scores near the top 10%!"
   ]
  },
  {
   "cell_type": "markdown",
   "metadata": {
    "_cell_guid": "cef63894-dda8-4b06-aa48-7694f9e483b7",
    "_uuid": "fa3d93f5249e8978c94c374465af33b83f13a38c"
   },
   "source": [
    "## 3. Numeric to Categoric"
   ]
  },
  {
   "cell_type": "markdown",
   "metadata": {
    "_cell_guid": "bc106018-6acf-4753-83f0-2da00eec3924",
    "_uuid": "d6e704f9cb3de5c8106ed6e7c29390df932b131e"
   },
   "source": [
    "Now lets examine the numerics which ought to be categorics. In the interests of being concise, I experimented with the following:\n",
    "\n",
    "1. MSSubClass\n",
    "2. MoSold\n",
    "3. YrSold\n",
    "\n",
    "And found improved performance with only MSSubClass converted. This can be illustrated below:"
   ]
  },
  {
   "cell_type": "code",
   "execution_count": 53,
   "metadata": {
    "_cell_guid": "f2c1d702-7caf-4991-b212-9a4d7616917a",
    "_execution_state": "idle",
    "_uuid": "0bb3bd1a3f733eb9f250145d89d331dd7dd4367f"
   },
   "outputs": [
    {
     "name": "stderr",
     "output_type": "stream",
     "text": [
      "/Users/KunWuYao/anaconda/lib/python3.5/site-packages/seaborn/categorical.py:1460: FutureWarning: remove_na is deprecated and is a private function. Do not use.\n",
      "  stat_data = remove_na(group_data)\n"
     ]
    },
    {
     "data": {
      "image/png": "[encoded data removed]",
      "text/plain": [
       "<matplotlib.figure.Figure at 0x1133b80f0>"
      ]
     },
     "metadata": {},
     "output_type": "display_data"
    }
   ],
   "source": [
    "sns.barplot(data=train, x='MSSubClass', y='SalePrice')\n",
    "plt.show()\n",
    "plt.gcf().clear()"
   ]
  },
  {
   "cell_type": "markdown",
   "metadata": {
    "_cell_guid": "5e3bfe28-8b02-4eeb-abf4-7912a3f5a251",
    "_uuid": "45ba928b1dedcb43b63c5bc5d291f1840a22c1f0"
   },
   "source": [
    " Therefore we will be using this going forward."
   ]
  },
  {
   "cell_type": "markdown",
   "metadata": {
    "_cell_guid": "fa4dbf0c-eafb-4a29-8f36-b01e58f44938",
    "_uuid": "156d0c8f01fbcca2b2bf421d709b37135ff17389"
   },
   "source": [
    "## INTERJECTION: Change models?"
   ]
  },
  {
   "cell_type": "markdown",
   "metadata": {
    "_cell_guid": "54ecb03a-cf49-4c48-bcea-098d5a7c46c1",
    "_uuid": "e2b30e06c12c2792f556ab9ca302df1cf56586e1"
   },
   "source": [
    "At this point I'd thought it would be wise to try a different modelling technique. Even with the best will in the world, I was getting issues with the ever-reliable random forest. Namely, there was huge noise in my cross validation score, which was making choosing the right data engineering steps a bit of a nightmare. Also RF regression is tediously slow. Enter XGBoost.\n",
    "\n",
    "I won't explain how XGBoost works, as there is literature online which can explain it better than I ever will, but suffice to say it is similar to RF in that it combines a lot of trees together, but unlike RF it doesn't build them in a random manner."
   ]
  },
  {
   "cell_type": "code",
   "execution_count": 54,
   "metadata": {
    "_cell_guid": "4ff5af4b-9647-4ca1-b077-d46a828d72ae",
    "_execution_state": "idle",
    "_uuid": "c58c6ab7dae897e9bf7eceb197783d993852f6a1"
   },
   "outputs": [
    {
     "name": "stderr",
     "output_type": "stream",
     "text": [
      "/Users/KunWuYao/anaconda/lib/python3.5/site-packages/sklearn/cross_validation.py:41: DeprecationWarning: This module was deprecated in version 0.18 in favor of the model_selection module into which all the refactored classes and functions are moved. Also note that the interface of the new CV iterators are different from that of this module. This module will be removed in 0.20.\n",
      "  \"This module will be removed in 0.20.\", DeprecationWarning)\n"
     ]
    }
   ],
   "source": [
    "from xgboost.sklearn import XGBRegressor"
   ]
  },
  {
   "cell_type": "code",
   "execution_count": 55,
   "metadata": {
    "_cell_guid": "4bf7a6cc-dede-49b0-ab00-867ca711efe6",
    "_execution_state": "idle",
    "_uuid": "a8afe4a196f9df511215e811116f187270a85305",
    "collapsed": true
   },
   "outputs": [],
   "source": [
    "xgb_test = XGBRegressor(learning_rate=0.05,n_estimators=500,max_depth=3,colsample_bytree=0.4)\n",
    "cv_score = cross_val_score(xgb_test, train_med.drop(['SalePrice','Id'], axis = 1), train_med['SalePrice'], cv = 5, n_jobs = -1)"
   ]
  },
  {
   "cell_type": "code",
   "execution_count": 56,
   "metadata": {
    "_cell_guid": "3696716c-a436-4d6c-bbae-9b5deab87830",
    "_execution_state": "idle",
    "_uuid": "1833de074257868bab2e9d2352fbc3af20f3a7a5"
   },
   "outputs": [
    {
     "name": "stdout",
     "output_type": "stream",
     "text": [
      "CV Score is: 0.8931122262679108\n"
     ]
    }
   ],
   "source": [
    "print('CV Score is: '+ str(np.mean(cv_score)))"
   ]
  },
  {
   "cell_type": "code",
   "execution_count": 60,
   "metadata": {
    "collapsed": true
   },
   "outputs": [],
   "source": [
    "xgb_test.fit(train_med.drop(['SalePrice','Id'], axis = 1), train_med['SalePrice'])\n",
    "pred = xgb_test.predict(test_d.drop(['SalePrice','Id'], axis = 1))\n",
    "sub = pd.DataFrame()\n",
    "sub['Id'] = test['Id']\n",
    "sub['SalePrice'] = pred\n",
    "sub.to_csv('xgbTry.csv', index = False)\n",
    "#0.12870 WOW!"
   ]
  },
  {
   "cell_type": "markdown",
   "metadata": {
    "_cell_guid": "cab49907-505b-4333-b2ec-945257d47df0",
    "_uuid": "2ef82bf3a3dc119eb26c8d2a2259d0ec9b470998"
   },
   "source": [
    "This is quite a bit stronger than RF, submitting yields 0.13031, which puts us strongly in the top 50%. A while to go yet, but we are moving in the right direction. Furthermore, let's move to using XGBoost as our regression method now."
   ]
  },
  {
   "cell_type": "markdown",
   "metadata": {
    "_cell_guid": "9adb1931-6927-4f33-956a-78c1a39e4c1b",
    "_uuid": "407deb7deac2c9aae9cdf1a3320ef0b21d70d6ff"
   },
   "source": [
    "## 4. Categoric to Numeric"
   ]
  },
  {
   "cell_type": "markdown",
   "metadata": {
    "_cell_guid": "aab2e1b2-2833-43a6-a7fa-acc39fba5bde",
    "_uuid": "41081f0ba290600aee9e9c9fc8dc5671ffc23d67"
   },
   "source": [
    "This is interesting. Some of the fields regarding the quality of the property are 'secretly' ordinal. Case in point, the field entitled BsmtCond, which has different quality ratings. Perhaps turning these into their numeric correspondent will improve performance, as we will be able to mine out better trends."
   ]
  },
  {
   "cell_type": "markdown",
   "metadata": {},
   "source": [
    "## This is very important since pd.get_dummies might not be relevent and convert the data to number would represent them better!"
   ]
  },
  {
   "cell_type": "code",
   "execution_count": 61,
   "metadata": {
    "_cell_guid": "fe1f43b3-99ba-4545-ad14-65e429a2e6d9",
    "_execution_state": "idle",
    "_uuid": "25ba61747016ecff5ee0d2f8f37a35bfcd46ceda",
    "collapsed": true
   },
   "outputs": [],
   "source": [
    "has_rank = [col for col in train if 'TA' in list(train[col])]"
   ]
  },
  {
   "cell_type": "code",
   "execution_count": 68,
   "metadata": {
    "_cell_guid": "26e24fe5-0d16-4a82-b481-ff6842a3fd22",
    "_execution_state": "idle",
    "_uuid": "65e9a2b1ab7eb42655082423862a1ab73c852b58",
    "collapsed": true
   },
   "outputs": [],
   "source": [
    "dic_num = {'None': 0, 'NA': 0, np.nan: 0, 'Po': 1, 'Fa': 2, 'TA': 3, 'Gd': 4, 'Ex': 5}"
   ]
  },
  {
   "cell_type": "code",
   "execution_count": 63,
   "metadata": {
    "_cell_guid": "3c8dbbaf-3602-4e9f-bcf0-5ef045966f73",
    "_execution_state": "idle",
    "_uuid": "407669ec1ae9ed03e0423bc6ec110582e0e5a35d",
    "collapsed": true
   },
   "outputs": [],
   "source": [
    "train_c2n = train.copy()"
   ]
  },
  {
   "cell_type": "markdown",
   "metadata": {},
   "source": [
    "## There are some numeric data are actually categorical, should be careful as well!"
   ]
  },
  {
   "cell_type": "code",
   "execution_count": 64,
   "metadata": {
    "_cell_guid": "f4cc7ebe-d89d-4b5f-bfb6-55b89ce4b8f2",
    "_execution_state": "idle",
    "_uuid": "38f3154cd54fa18531d763934119ccc802af582c",
    "collapsed": true
   },
   "outputs": [],
   "source": [
    "train_c2n['MSSubClass'] = train_c2n['MSSubClass'].astype('category')"
   ]
  },
  {
   "cell_type": "code",
   "execution_count": 65,
   "metadata": {
    "_cell_guid": "d2766830-e03e-4d3b-a32f-802283b5f367",
    "_execution_state": "idle",
    "_uuid": "f4ea942a34a34b8a5ed5b09e52f6608c0c0bbc7b",
    "collapsed": true
   },
   "outputs": [],
   "source": [
    "# for the key (the key is neighborhood in this case), and the group object (group is LotFrontage grouped by Neighborhood) \n",
    "# associated with it...\n",
    "for key,group in gb_neigh_LF:\n",
    "    # find where we are both simultaneously missing values and where the key exists\n",
    "    lot_f_nulls_nei = train['LotFrontage'].isnull() & (train['Neighborhood'] == key)\n",
    "    # fill in those blanks with the median of the key's group object\n",
    "    train_c2n.loc[lot_f_nulls_nei,'LotFrontage'] = group.median()"
   ]
  },
  {
   "cell_type": "code",
   "execution_count": 69,
   "metadata": {
    "_cell_guid": "763a50ab-c91f-4480-ad28-96cd79e356c4",
    "_execution_state": "idle",
    "_uuid": "27af61fc7067730ca9bb790f02ea85c1b4e2bf80",
    "collapsed": true
   },
   "outputs": [],
   "source": [
    "for col in has_rank:\n",
    "    train_c2n[col+'_2num'] = train_c2n[col].map(dic_num)"
   ]
  },
  {
   "cell_type": "code",
   "execution_count": 70,
   "metadata": {
    "_cell_guid": "01c64cbe-763e-4b4b-afd8-d413b27a34a6",
    "_execution_state": "idle",
    "_uuid": "4af9c0b800018353492b6023ef1561983b328bdb",
    "collapsed": true
   },
   "outputs": [],
   "source": [
    "train_c2n = pd.get_dummies(train_c2n)"
   ]
  },
  {
   "cell_type": "code",
   "execution_count": 71,
   "metadata": {
    "_cell_guid": "b35c264c-4edc-4c1e-b4c9-647fd8a37e8c",
    "_execution_state": "idle",
    "_uuid": "4fcdfdb7d4f32a6c3cdd77aa97a3ce75d8820dda",
    "collapsed": true
   },
   "outputs": [],
   "source": [
    "train_cols = train_c2n.select_dtypes(include=['number']).columns\n",
    "train_c2n = train_c2n[train_cols]"
   ]
  },
  {
   "cell_type": "code",
   "execution_count": 72,
   "metadata": {
    "_cell_guid": "722ced7c-ef2c-47be-9099-a2b8658bce3e",
    "_execution_state": "idle",
    "_uuid": "2037d592b5eb94f2f8f1c56c5288042aa37e2f18",
    "collapsed": true
   },
   "outputs": [],
   "source": [
    "train_c2n = train_c2n.fillna(train_c2n.median())"
   ]
  },
  {
   "cell_type": "code",
   "execution_count": 73,
   "metadata": {
    "_cell_guid": "b7464707-464b-41ef-9ab4-48341b9c70cd",
    "_execution_state": "idle",
    "_uuid": "80398627db26642ba630fb073edc7375f3720417",
    "collapsed": true
   },
   "outputs": [],
   "source": [
    "xgb_test = XGBRegressor(learning_rate=0.05,n_estimators=500,max_depth=3,colsample_bytree=0.4)\n",
    "cv_score = cross_val_score(xgb_test, train_c2n.drop(['SalePrice','Id'], axis = 1), train_c2n['SalePrice'], cv = 5, n_jobs=-1)"
   ]
  },
  {
   "cell_type": "code",
   "execution_count": 74,
   "metadata": {
    "_cell_guid": "f6b19ba7-8b1b-40c2-9a5e-5f7807c678be",
    "_execution_state": "idle",
    "_uuid": "3414f849e8dcfb0ca8fbc5fae18eb9bad6258834"
   },
   "outputs": [
    {
     "name": "stdout",
     "output_type": "stream",
     "text": [
      "CV Score is: 0.8950398236281201\n"
     ]
    }
   ],
   "source": [
    "print('CV Score is: '+ str(np.mean(cv_score)))"
   ]
  },
  {
   "cell_type": "markdown",
   "metadata": {
    "_cell_guid": "25118cca-56b3-49d3-899c-198845b7f3cc",
    "_uuid": "a93d1b434daccab066b2c74a835cfad8f58080bb"
   },
   "source": [
    "This is a strong increase. Let's move onto dropping columns."
   ]
  },
  {
   "cell_type": "markdown",
   "metadata": {
    "_cell_guid": "37250c14-979d-434e-b971-2e957f42fe30",
    "_uuid": "e74d3c13d2cc5dd3dc321b4853ceab7a66e20b01"
   },
   "source": [
    "## 5. Dropping Columns"
   ]
  },
  {
   "cell_type": "markdown",
   "metadata": {
    "_cell_guid": "89c88470-9fca-4b0b-8d00-c7d2a4eaa76c",
    "_uuid": "10de3d0b3553a4d1c2a3d74e210b06071f3639eb"
   },
   "source": [
    "One thing to note about this dataset is the lack of data (~1500 rows) and with it the curse of dimensionality. One way around this is to remove the number of columns, specifically ones which are carry little information.\n",
    "\n",
    "I experimented with this, and found that removing columns where 97% of the data was a single class to be a good method."
   ]
  },
  {
   "cell_type": "code",
   "execution_count": 76,
   "metadata": {
    "_cell_guid": "63f14ace-e33c-4f4e-91f0-7a90b34358a6",
    "_execution_state": "idle",
    "_uuid": "2bd5b3008098a20d5a4df04bf6a720182556b315",
    "collapsed": true
   },
   "outputs": [],
   "source": [
    "from statistics import mode\n",
    "#mode: most common value"
   ]
  },
  {
   "cell_type": "code",
   "execution_count": 77,
   "metadata": {
    "_cell_guid": "9ba07e90-6cc3-4f96-917b-4b2536082d77",
    "_execution_state": "idle",
    "_uuid": "2187e7b3239f71297ec36092b0c310d00799513f"
   },
   "outputs": [
    {
     "data": {
      "text/plain": [
       "['Street', 'Utilities', 'Condition2', 'RoofMatl', 'Heating']"
      ]
     },
     "execution_count": 77,
     "metadata": {},
     "output_type": "execute_result"
    }
   ],
   "source": [
    "low_var_cat = [col for col in train.select_dtypes(exclude=['number']) if 1 - sum(train[col] == mode(train[col]))/len(train) < 0.03]\n",
    "low_var_cat"
   ]
  },
  {
   "cell_type": "markdown",
   "metadata": {
    "_cell_guid": "c9a0adc1-253e-4f2e-bd9d-79eebcf8dbc5",
    "_uuid": "6ef88775be3e1ceb00c1b4a290ff6f4e818472ee"
   },
   "source": [
    "Let's drop these columns."
   ]
  },
  {
   "cell_type": "code",
   "execution_count": 78,
   "metadata": {
    "_cell_guid": "5ecc7fc2-cfa8-4a9a-bfed-44ada2d4b97b",
    "_execution_state": "idle",
    "_uuid": "f657ab9e860c01160ea283caed99cbfd8cbe4cdb",
    "collapsed": true
   },
   "outputs": [],
   "source": [
    "has_rank = [col for col in train if 'TA' in list(train[col])]"
   ]
  },
  {
   "cell_type": "code",
   "execution_count": 79,
   "metadata": {
    "_cell_guid": "337e178f-6b23-4be3-a737-c5882cd6ebe6",
    "_execution_state": "idle",
    "_uuid": "a5e2ba401efd296ca2ef23b4da47251e279bf29b",
    "collapsed": true
   },
   "outputs": [],
   "source": [
    "dic_num = {'None': 0, 'Po': 1, 'Fa': 2, 'TA': 3, 'Gd': 4, 'Ex': 5}"
   ]
  },
  {
   "cell_type": "code",
   "execution_count": 80,
   "metadata": {
    "_cell_guid": "64e69b1f-5161-4c90-b61a-037489885309",
    "_execution_state": "idle",
    "_uuid": "0d8b9fa75ed17f67209c7a8f72f5af70ca3c899c",
    "collapsed": true
   },
   "outputs": [],
   "source": [
    "train_col = train.copy()"
   ]
  },
  {
   "cell_type": "code",
   "execution_count": 81,
   "metadata": {
    "_cell_guid": "5ad68180-2350-4a71-b562-dd245a95eac7",
    "_execution_state": "idle",
    "_uuid": "ef0c744e3d731cf60e282dc79fdcb1eb3ce2a526",
    "collapsed": true
   },
   "outputs": [],
   "source": [
    "train_col = train_col.drop(['Street', 'Utilities', 'Condition2', 'RoofMatl', 'Heating'], axis = 1)"
   ]
  },
  {
   "cell_type": "code",
   "execution_count": 82,
   "metadata": {
    "_cell_guid": "521bbbae-1458-4247-ae3b-2e967ded5f6c",
    "_execution_state": "idle",
    "_uuid": "3727088fb731f79de8f32f4a544a029207c34c0f",
    "collapsed": true
   },
   "outputs": [],
   "source": [
    "train_col['MSSubClass'] = train_col['MSSubClass'].astype('category')"
   ]
  },
  {
   "cell_type": "code",
   "execution_count": 83,
   "metadata": {
    "_cell_guid": "9e3c187d-b125-4eca-8142-c4ef0ddc4729",
    "_execution_state": "idle",
    "_uuid": "17aa8eb7252cb58078ec771e35adc26258cd2b4f",
    "collapsed": true
   },
   "outputs": [],
   "source": [
    "# for the key (the key is neighborhood in this case), and the group object (group is LotFrontage grouped by Neighborhood) \n",
    "# associated with it...\n",
    "for key,group in gb_neigh_LF:\n",
    "    # find where we are both simultaneously missing values and where the key exists\n",
    "    lot_f_nulls_nei = train['LotFrontage'].isnull() & (train['Neighborhood'] == key)\n",
    "    # fill in those blanks with the median of the key's group object\n",
    "    train_col.loc[lot_f_nulls_nei,'LotFrontage'] = group.median()"
   ]
  },
  {
   "cell_type": "code",
   "execution_count": 84,
   "metadata": {
    "_cell_guid": "f6c5ad32-525a-42ef-9f5a-d87b363cddf9",
    "_execution_state": "idle",
    "_uuid": "612208832ec791ca01591fc19596937f12330095",
    "collapsed": true
   },
   "outputs": [],
   "source": [
    "for col in has_rank:\n",
    "    train_col[col+'_2num'] = train_col[col].map(dic_num)"
   ]
  },
  {
   "cell_type": "code",
   "execution_count": 85,
   "metadata": {
    "_cell_guid": "2397a899-0a32-4ded-9048-4d596bc39443",
    "_execution_state": "idle",
    "_uuid": "b013bd3984ab153c87fea0a66e2b6992fed43c17",
    "collapsed": true
   },
   "outputs": [],
   "source": [
    "train_col = pd.get_dummies(train_col)"
   ]
  },
  {
   "cell_type": "code",
   "execution_count": 86,
   "metadata": {
    "_cell_guid": "cede0906-29fe-4e3b-a2cf-f1816889c19b",
    "_execution_state": "idle",
    "_uuid": "89e7358ea1a40ce54653621854b55d46f60d049d",
    "collapsed": true
   },
   "outputs": [],
   "source": [
    "train_cols = train_col.select_dtypes(include=['number']).columns\n",
    "train_col = train_col[train_cols]"
   ]
  },
  {
   "cell_type": "code",
   "execution_count": 87,
   "metadata": {
    "_cell_guid": "2ffc5210-0017-4fde-bd60-b18df99cb0e0",
    "_execution_state": "idle",
    "_uuid": "d6cf01270fa7ca68ef6da6080e926e10d58e15b9",
    "collapsed": true
   },
   "outputs": [],
   "source": [
    "train_col = train_col.fillna(train_col.median())"
   ]
  },
  {
   "cell_type": "code",
   "execution_count": 88,
   "metadata": {
    "_cell_guid": "374010c8-7e30-48b8-a777-97489ad5a518",
    "_execution_state": "idle",
    "_uuid": "33b47655e07b9f739afbf73d52adf84617b1d380",
    "collapsed": true
   },
   "outputs": [],
   "source": [
    "xgb_test = XGBRegressor(learning_rate=0.05,n_estimators=500,max_depth=3,colsample_bytree=0.4)\n",
    "cv_score = cross_val_score(xgb_test, train_col.drop(['SalePrice','Id'], axis = 1), train_col['SalePrice'], cv = 5, n_jobs=-1)"
   ]
  },
  {
   "cell_type": "code",
   "execution_count": 89,
   "metadata": {
    "_cell_guid": "6503a1ef-fc10-43e9-93e1-21b044ab766a",
    "_execution_state": "idle",
    "_uuid": "2ac05f286eb7772f1f0ca86d13aa34a9beafde1d"
   },
   "outputs": [
    {
     "name": "stdout",
     "output_type": "stream",
     "text": [
      "CV Score is: 0.8984167970843178\n"
     ]
    }
   ],
   "source": [
    "print('CV Score is: '+ str(np.mean(cv_score)))"
   ]
  },
  {
   "cell_type": "markdown",
   "metadata": {
    "_cell_guid": "2c9d09b9-ee17-471c-9c61-92c96dbaf08d",
    "_uuid": "6e496e17c8bbc9e3506d2a734d601392c3c3e343"
   },
   "source": [
    "A moderate increase, so let's continue."
   ]
  },
  {
   "cell_type": "markdown",
   "metadata": {
    "_cell_guid": "830b259f-af20-4a46-b125-fb940b22210d",
    "_uuid": "c27df6c684acdc666b5b769abb4b3978350c0228"
   },
   "source": [
    "## 6. 'None' vs NA"
   ]
  },
  {
   "cell_type": "markdown",
   "metadata": {
    "_cell_guid": "1366c85b-50db-4366-ac44-8eaebfcd71ce",
    "_uuid": "0d31ec2d0d921e376d5b05e3cc5e324d673521db"
   },
   "source": [
    "So we got around the issue with NAs in the numerical data by replacing with the medians. However, what about with categoric? Up to now we've encoded these as NA, which means when the dummy variables are created they effectively get dropped. Instead, let's create a new class called 'None' for when the feature doesn't exist for a property (i.e.: a property without a basement), or in the case of a genuine missing value, replace with the mode."
   ]
  },
  {
   "cell_type": "code",
   "execution_count": 93,
   "metadata": {
    "_cell_guid": "566c574f-7adf-4d73-874c-bbaf966e059f",
    "_execution_state": "idle",
    "_uuid": "daea517213c5f3a122c4a6fd1c2a850fb921d985"
   },
   "outputs": [
    {
     "data": {
      "text/plain": [
       "['Alley',\n",
       " 'MasVnrType',\n",
       " 'BsmtQual',\n",
       " 'BsmtCond',\n",
       " 'BsmtExposure',\n",
       " 'BsmtFinType1',\n",
       " 'BsmtFinType2',\n",
       " 'Electrical',\n",
       " 'FireplaceQu',\n",
       " 'GarageType',\n",
       " 'GarageFinish',\n",
       " 'GarageQual',\n",
       " 'GarageCond',\n",
       " 'PoolQC',\n",
       " 'Fence',\n",
       " 'MiscFeature']"
      ]
     },
     "execution_count": 93,
     "metadata": {},
     "output_type": "execute_result"
    }
   ],
   "source": [
    "cat_hasnull = [col for col in train.select_dtypes(['object']) if train[col].isnull().any()]\n",
    "cat_hasnull"
   ]
  },
  {
   "cell_type": "markdown",
   "metadata": {
    "_cell_guid": "09140c3d-7aa5-4e13-8cb8-7acaf2460c5d",
    "_uuid": "cbde42cbfaf60526c6641fecb37d55e897a11351"
   },
   "source": [
    "We see that all these fields apart from 'Electrical' have NAs denoting that there is none of that item in the house (i.e.: no Garage). Therefore let's replace these with the string 'None' and the Electrical field with the mode value."
   ]
  },
  {
   "cell_type": "code",
   "execution_count": 94,
   "metadata": {
    "_cell_guid": "6dfbd8b3-4aac-447e-afbc-f27b72712e0b",
    "_execution_state": "idle",
    "_uuid": "1b5113c38e9eafa52be984e641cb720580472865",
    "collapsed": true
   },
   "outputs": [],
   "source": [
    "cat_hasnull.remove('Electrical')"
   ]
  },
  {
   "cell_type": "code",
   "execution_count": 95,
   "metadata": {
    "_cell_guid": "b2cfe255-5e99-4ea3-b593-a70b199bafe1",
    "_execution_state": "idle",
    "_uuid": "db035e91c34e5a7226203fc5bcfde6c2a8d175de"
   },
   "outputs": [
    {
     "data": {
      "text/plain": [
       "'SBrkr'"
      ]
     },
     "execution_count": 95,
     "metadata": {},
     "output_type": "execute_result"
    }
   ],
   "source": [
    "mode_elec = mode(train['Electrical'])\n",
    "mode_elec"
   ]
  },
  {
   "cell_type": "markdown",
   "metadata": {
    "_cell_guid": "4089ceb9-7968-4043-a460-25f6afac7df8",
    "_uuid": "9ad3dfdf246fa14e2eb8f2f8a9451bea9fc9f88f"
   },
   "source": [
    "So the mode is SBrkr. Let's use this as the replacement."
   ]
  },
  {
   "cell_type": "code",
   "execution_count": 96,
   "metadata": {
    "_cell_guid": "bd0b25f8-abc0-4316-bf6f-665b4378b323",
    "_execution_state": "idle",
    "_uuid": "3e336c9bb4ce86a9c40b8d1f4fb58905c6d1cdec",
    "collapsed": true
   },
   "outputs": [],
   "source": [
    "has_rank = [col for col in train if 'TA' in list(train[col])]"
   ]
  },
  {
   "cell_type": "code",
   "execution_count": 97,
   "metadata": {
    "_cell_guid": "9c309f3a-643e-47ea-a44e-aef3b3901448",
    "_execution_state": "idle",
    "_uuid": "870d0a9f926c60d4c154a90ef8aec695a01a63c1",
    "collapsed": true
   },
   "outputs": [],
   "source": [
    "dic_num = {'None': 0, 'Po': 1, 'Fa': 2, 'TA': 3, 'Gd': 4, 'Ex': 5}"
   ]
  },
  {
   "cell_type": "code",
   "execution_count": 98,
   "metadata": {
    "_cell_guid": "d4d67980-8522-40a8-a622-e86584cce53e",
    "_execution_state": "idle",
    "_uuid": "a1fea4045d22b923b11d52d4a05663418e97dd77",
    "collapsed": true
   },
   "outputs": [],
   "source": [
    "cat_hasnull = [col for col in train.select_dtypes(['object']) if train[col].isnull().any()]"
   ]
  },
  {
   "cell_type": "code",
   "execution_count": 99,
   "metadata": {
    "_cell_guid": "8338ed5d-ab81-438d-9e08-d8baadf4c9d7",
    "_execution_state": "idle",
    "_uuid": "9fca9e46fde9c53f1c7906b54617f1d7df9f7a3e",
    "collapsed": true
   },
   "outputs": [],
   "source": [
    "cat_hasnull.remove('Electrical')"
   ]
  },
  {
   "cell_type": "code",
   "execution_count": 100,
   "metadata": {
    "_cell_guid": "409babb3-23d0-495e-952b-85af922930e6",
    "_execution_state": "idle",
    "_uuid": "9041d2c58ca617e0960bf6da6055e4f5dde3582f",
    "collapsed": true
   },
   "outputs": [],
   "source": [
    "train_none = train.copy()"
   ]
  },
  {
   "cell_type": "code",
   "execution_count": 101,
   "metadata": {
    "_cell_guid": "10a1017c-f45b-4d24-847a-02c25c4bfe5e",
    "_execution_state": "idle",
    "_uuid": "670f933c972cbcd49e6580c2de848074226b8f2f",
    "collapsed": true
   },
   "outputs": [],
   "source": [
    "train_none = train_none.drop(['Street', 'Utilities', 'Condition2', 'RoofMatl', 'Heating'], axis = 1)"
   ]
  },
  {
   "cell_type": "code",
   "execution_count": 102,
   "metadata": {
    "_cell_guid": "da4a0693-51bb-4040-b818-c95e4af1f88c",
    "_execution_state": "idle",
    "_uuid": "82c3d226e94a7e4308670f59d94df0ae5779df9d",
    "collapsed": true
   },
   "outputs": [],
   "source": [
    "train_none['MSSubClass'] = train_none['MSSubClass'].astype('category')"
   ]
  },
  {
   "cell_type": "code",
   "execution_count": 103,
   "metadata": {
    "_cell_guid": "0fba4f08-4dd8-4db8-8f54-53f57a13601e",
    "_execution_state": "idle",
    "_uuid": "cbf21e27d877891bd2918f4af9332d4b36ae0616",
    "collapsed": true
   },
   "outputs": [],
   "source": [
    "for col in cat_hasnull:\n",
    "    null_idx = train_none[col].isnull()\n",
    "    train_none.loc[null_idx, col] = 'None'"
   ]
  },
  {
   "cell_type": "code",
   "execution_count": 104,
   "metadata": {
    "_cell_guid": "3f2b3b03-babd-4c15-92bc-06d1910f593e",
    "_execution_state": "idle",
    "_uuid": "b92e9e2ad0aa1e0311caccdf19541de61ea14d65",
    "collapsed": true
   },
   "outputs": [],
   "source": [
    "null_idx_el = train_none['Electrical'].isnull()\n",
    "train_none.loc[null_idx_el, 'Electrical'] = 'SBrkr'"
   ]
  },
  {
   "cell_type": "code",
   "execution_count": 105,
   "metadata": {
    "_cell_guid": "db9da02c-412a-4afd-95d2-0f6121c80100",
    "_execution_state": "idle",
    "_uuid": "41093d6ae34d4dfaeadff7828a1bf0c1b92ba42d",
    "collapsed": true
   },
   "outputs": [],
   "source": [
    "# for the key (the key is neighborhood in this case), and the group object (group is LotFrontage grouped by Neighborhood) \n",
    "# associated with it...\n",
    "for key,group in gb_neigh_LF:\n",
    "    # find where we are both simultaneously missing values and where the key exists\n",
    "    lot_f_nulls_nei = train['LotFrontage'].isnull() & (train['Neighborhood'] == key)\n",
    "    # fill in those blanks with the median of the key's group object\n",
    "    train_none.loc[lot_f_nulls_nei,'LotFrontage'] = group.median()"
   ]
  },
  {
   "cell_type": "code",
   "execution_count": 106,
   "metadata": {
    "_cell_guid": "55596fae-1b1d-4998-9bdd-c8c224e05ca4",
    "_execution_state": "idle",
    "_uuid": "11d2bca4c4cc140a679c138317a592d1980adc36",
    "collapsed": true
   },
   "outputs": [],
   "source": [
    "for col in has_rank:\n",
    "    train_none[col+'_2num'] = train_none[col].map(dic_num)"
   ]
  },
  {
   "cell_type": "code",
   "execution_count": 107,
   "metadata": {
    "_cell_guid": "34bc7b5e-9a41-436d-88b3-a5d6dc52c725",
    "_execution_state": "idle",
    "_uuid": "36dddff86d5831244aa946f44186cd524194405d",
    "collapsed": true
   },
   "outputs": [],
   "source": [
    "train_none = pd.get_dummies(train_none)"
   ]
  },
  {
   "cell_type": "code",
   "execution_count": 108,
   "metadata": {
    "_cell_guid": "6644baea-6d5e-432b-8165-a533476d62e4",
    "_execution_state": "idle",
    "_uuid": "7ac684eb4c1ce150e8f31aa0495949cc5d2a665e",
    "collapsed": true
   },
   "outputs": [],
   "source": [
    "train_cols = train_none.select_dtypes(include=['number']).columns\n",
    "train_none = train_none[train_cols]"
   ]
  },
  {
   "cell_type": "code",
   "execution_count": 109,
   "metadata": {
    "_cell_guid": "62236623-5960-4561-9c00-12e1b17e2879",
    "_execution_state": "idle",
    "_uuid": "4fd0188c23772627d97e8a6121e5c819d5e49c52",
    "collapsed": true
   },
   "outputs": [],
   "source": [
    "train_none = train_none.fillna(train_none.median())"
   ]
  },
  {
   "cell_type": "code",
   "execution_count": 110,
   "metadata": {
    "_cell_guid": "8277ab37-5455-4110-91e7-34e617b2fb6f",
    "_execution_state": "idle",
    "_uuid": "43f2709efedc3bdb63a44a7fcaa338b7a4656785",
    "collapsed": true
   },
   "outputs": [],
   "source": [
    "xgb_test = XGBRegressor(learning_rate=0.05,n_estimators=500,max_depth=3,colsample_bytree=0.4)\n",
    "cv_score = cross_val_score(xgb_test, train_none.drop(['SalePrice','Id'], axis = 1), train_none['SalePrice'], cv = 5, n_jobs=-1)"
   ]
  },
  {
   "cell_type": "code",
   "execution_count": 111,
   "metadata": {
    "_cell_guid": "b61a75aa-509b-41f4-864d-f718766d125a",
    "_execution_state": "idle",
    "_uuid": "38161fae20fd8dbf373eda566308a5e384a354ee"
   },
   "outputs": [
    {
     "name": "stdout",
     "output_type": "stream",
     "text": [
      "CV Score is: 0.8973817592310545\n"
     ]
    }
   ],
   "source": [
    "print('CV Score is: '+ str(np.mean(cv_score)))"
   ]
  },
  {
   "cell_type": "markdown",
   "metadata": {
    "_cell_guid": "49c30aed-e81d-429a-956e-b6dbf3dc2466",
    "_uuid": "4d69102766f2eedf1ee28687109f78962ad8d77e"
   },
   "source": [
    "A nice increase! Let's keep going."
   ]
  },
  {
   "cell_type": "markdown",
   "metadata": {
    "_cell_guid": "dd99d3cc-1cb5-49cb-aadf-2005206971ea",
    "_uuid": "bf0c4c2e3b33129d6ce426fba0befaa01dda62ec"
   },
   "source": [
    "## 7. Unskewing Data"
   ]
  },
  {
   "cell_type": "markdown",
   "metadata": {
    "_cell_guid": "1a875fc0-48dd-4bd0-bdbf-99e5723219db",
    "_uuid": "f429802154ed34dcd31822b8914a65224f250b10"
   },
   "source": [
    "As aforementioned, if we want to look at more traditional regression techniques, we need to address the skewness that exists in our data. Interestingly, if you were to try a Lasso model with the current data, you'd get something in between XGBoost and RandomForest. This bodes well :)"
   ]
  },
  {
   "cell_type": "code",
   "execution_count": 112,
   "metadata": {
    "_cell_guid": "22033696-d9c1-4fae-8f10-9b3c37a596b1",
    "_execution_state": "idle",
    "_uuid": "1a14fa4b5c1bdc7a17ba41f51132fe175ad6e015"
   },
   "outputs": [
    {
     "data": {
      "text/plain": [
       "Id                   0.000000\n",
       "LotFrontage          2.212959\n",
       "LotArea             12.207688\n",
       "OverallQual          0.216944\n",
       "OverallCond          0.693067\n",
       "YearBuilt           -0.613461\n",
       "YearRemodAdd        -0.503562\n",
       "MasVnrArea           2.677616\n",
       "BsmtFinSF1           1.685503\n",
       "BsmtFinSF2           4.255261\n",
       "BsmtUnfSF            0.920268\n",
       "TotalBsmtSF          1.524255\n",
       "1stFlrSF             1.376757\n",
       "2ndFlrSF             0.813030\n",
       "LowQualFinSF         9.011341\n",
       "GrLivArea            1.366560\n",
       "BsmtFullBath         0.596067\n",
       "BsmtHalfBath         4.103403\n",
       "FullBath             0.036562\n",
       "HalfBath             0.675897\n",
       "BedroomAbvGr         0.211790\n",
       "KitchenAbvGr         4.488397\n",
       "TotRmsAbvGrd         0.676341\n",
       "Fireplaces           0.649565\n",
       "GarageYrBlt         -0.678333\n",
       "GarageCars          -0.342549\n",
       "GarageArea           0.179981\n",
       "WoodDeckSF           1.541376\n",
       "OpenPorchSF          2.364342\n",
       "EnclosedPorch        3.089872\n",
       "3SsnPorch           10.304342\n",
       "ScreenPorch          4.122214\n",
       "PoolArea            14.828374\n",
       "MiscVal             24.476794\n",
       "MoSold               0.212053\n",
       "YrSold               0.096269\n",
       "SalePrice            1.882876\n",
       "ExterQual_2num       0.825988\n",
       "ExterCond_2num       1.397219\n",
       "BsmtQual_2num       -1.287571\n",
       "BsmtCond_2num       -3.701033\n",
       "HeatingQC_2num      -0.540458\n",
       "KitchenQual_2num     0.386765\n",
       "FireplaceQu_2num     0.112770\n",
       "GarageQual_2num     -3.228583\n",
       "GarageCond_2num     -3.331900\n",
       "dtype: float64"
      ]
     },
     "execution_count": 112,
     "metadata": {},
     "output_type": "execute_result"
    }
   ],
   "source": [
    "cols_skew = [col for col in train_none if '_2num' in col or '_' not in col]\n",
    "train_none[cols_skew].skew()"
   ]
  },
  {
   "cell_type": "markdown",
   "metadata": {
    "_cell_guid": "99d668dd-a8d1-463c-97fc-496cd45a35c4",
    "_uuid": "9cb13141d658777daf06b43193bdab8bf05b6360"
   },
   "source": [
    "In addition to the original values, we have some new skewed values of the _2num variety (i.e.: our categorics converted into numbers). In the interests of being concise, I found that unskewing values with a skewness magnitude above 1 to give the best results."
   ]
  },
  {
   "cell_type": "code",
   "execution_count": 113,
   "metadata": {
    "_cell_guid": "82aba697-4668-45e8-833d-409f0ab4b9ed",
    "_execution_state": "idle",
    "_uuid": "f85023bdd5802b138204d990febfcd6dc47372da",
    "collapsed": true
   },
   "outputs": [],
   "source": [
    "cols_unskew = train_none[cols_skew].columns[abs(train_none[cols_skew].skew()) > 1]"
   ]
  },
  {
   "cell_type": "code",
   "execution_count": 114,
   "metadata": {
    "_cell_guid": "a7ba67c7-ed9f-46f9-bf6d-93055ecb0e5a",
    "_execution_state": "idle",
    "_uuid": "e8c9dc970d0b1d1e3a1df5e9308366ff7373f6e1",
    "collapsed": true
   },
   "outputs": [],
   "source": [
    "train_unskew = train_none.copy()"
   ]
  },
  {
   "cell_type": "code",
   "execution_count": 115,
   "metadata": {
    "_cell_guid": "063d40b1-14da-451d-bacb-5a61ed907dc0",
    "_execution_state": "idle",
    "_uuid": "48f025cc4e77dbf9e37e0e66e86a6f28944c8f97",
    "collapsed": true
   },
   "outputs": [],
   "source": [
    "for col in cols_unskew:\n",
    "    train_unskew[col] = np.log1p(train_none[col])"
   ]
  },
  {
   "cell_type": "code",
   "execution_count": 116,
   "metadata": {
    "_cell_guid": "943383e1-52d5-4f36-91f7-8c794eab87e1",
    "_execution_state": "idle",
    "_uuid": "e258e2a380326319164d24e5d659eb0cb78f1c9e",
    "collapsed": true
   },
   "outputs": [],
   "source": [
    "xgb_test = XGBRegressor(learning_rate=0.05,n_estimators=500,max_depth=3,colsample_bytree=0.4)\n",
    "cv_score = cross_val_score(xgb_test, train_unskew.drop(['SalePrice','Id'], axis = 1), train_unskew['SalePrice'], cv = 5, n_jobs=-1)"
   ]
  },
  {
   "cell_type": "code",
   "execution_count": 117,
   "metadata": {
    "_cell_guid": "5e4dc881-7a89-4f2f-9ca4-d0bf82361202",
    "_execution_state": "idle",
    "_uuid": "6c1dfbcf27c34f7e9bec0da661a3e42b50bed35d"
   },
   "outputs": [
    {
     "name": "stdout",
     "output_type": "stream",
     "text": [
      "CV Score is: 0.907485002458189\n"
     ]
    }
   ],
   "source": [
    "print('CV Score is: '+ str(np.mean(cv_score)))"
   ]
  },
  {
   "cell_type": "code",
   "execution_count": 134,
   "metadata": {
    "collapsed": true
   },
   "outputs": [],
   "source": [
    "#Try to submit and check the score\n",
    "\n",
    "test_d = test.copy()\n",
    "test_d = test_d.drop(['Street', 'Utilities', 'Condition2', 'RoofMatl', 'Heating'], axis = 1)\n",
    "test_d['MSSubClass'] = test_d['MSSubClass'].astype('category')\n",
    "for col in cat_hasnull:\n",
    "    null_idx = test_d[col].isnull()\n",
    "    test_d.loc[null_idx, col] = 'None'\n",
    "    \n",
    "null_idx_el = test_d['Electrical'].isnull()\n",
    "test_d.loc[null_idx_el, 'Electrical'] = 'SBrkr'\n",
    "\n",
    "for key,group in gb_neigh_LF:\n",
    "    # find where we are both simultaneously missing values and where the key exists\n",
    "    lot_f_nulls_nei = test_d['LotFrontage'].isnull() & (test_d['Neighborhood'] == key)\n",
    "    # fill in those blanks with the median of the key's group object\n",
    "    test_d.loc[lot_f_nulls_nei,'LotFrontage'] = group.median()\n",
    "\n",
    "for col in has_rank:\n",
    "    test_d[col+'_2num'] = test_d[col].map(dic_num)\n",
    "\n",
    "test_d = pd.get_dummies(test_d)\n",
    "\n",
    "for col in train_cols:\n",
    "    try: \n",
    "        test_d[col]\n",
    "    except:\n",
    "        test_d[col] = 0\n",
    "\n",
    "test_d = test_d[train_cols]\n",
    "\n",
    "test_d = test_d.fillna(train_none.median())\n",
    "\n",
    "for col in cols_unskew:\n",
    "    test_d[col] = np.log1p(test_d[col])"
   ]
  },
  {
   "cell_type": "code",
   "execution_count": 138,
   "metadata": {
    "collapsed": true
   },
   "outputs": [],
   "source": [
    "xgb_test = XGBRegressor(learning_rate=0.05,n_estimators=500,max_depth=3,colsample_bytree=0.4)\n",
    "xgb_test.fit(train_unskew.drop(['SalePrice','Id'], axis = 1), train_unskew['SalePrice'])\n",
    "pred = xgb_test.predict(test_d.drop(['SalePrice', 'Id'], axis = 1))\n",
    "\n",
    "sub = pd.DataFrame()\n",
    "sub['Id'] = test['Id']\n",
    "sub['SalePrice'] = np.expm1(pred)\n",
    "sub.to_csv('xgbc2nTry.csv', index = False)\n",
    "\n",
    "#0.12974 no better~~~"
   ]
  },
  {
   "cell_type": "markdown",
   "metadata": {
    "_cell_guid": "55d38791-219f-441e-86e5-03b6b425482b",
    "_uuid": "7fd5a652fc5731da50931491f1e279f3b30ec9b1"
   },
   "source": [
    "Interestingly enough the CV score for the XGBoost model improves. Perhaps this is down to unskewing the sale price, which reduces the heteroskedacisity of the target, making it easier to predict.\n",
    "\n",
    "For reference, let us submit. We now get a score of 0.12741, which is a big jump in the right direction, putting us in the top 39%."
   ]
  },
  {
   "cell_type": "markdown",
   "metadata": {
    "_cell_guid": "7a07c6d4-773a-4f8e-9cf7-81696d942df6",
    "_uuid": "e90251f53f99003fa8a3cc3d1d400de240b266e6"
   },
   "source": [
    "# 4. Different Models: Lasso"
   ]
  },
  {
   "cell_type": "markdown",
   "metadata": {
    "_cell_guid": "7c2d7540-430a-4ad9-9baf-2bcbaa5d3d59",
    "_uuid": "be0fd7c28adc691e7058d691157b7abe32875fa9"
   },
   "source": [
    "We've addressed a lot of the issues holding us back when using a linear model. In terms of which linear models to use, there are really 3 which are popular:\n",
    "\n",
    "1. Lasso\n",
    "2. Ridge\n",
    "3. Elastic Net (combination of Lasso and Ridge)\n",
    "\n",
    "I've tried all 3 with this data set, and Lasso is by far and away the most performant. If you were to try the other 2, you will find a huge amount of overfit on the training set, even with cross validation.\n",
    "\n",
    "With this knowledge, let's get lazy and use the LassoCV algorithm. This is effectively the same as the standard Lasso algorithm, but it will use cross validation to figure out the best parameters each time you use the model. This saves having to perform gridsearch, and typically gives identical performance. An important thing to note with these types of algorithms is the need to scale the data so that the feature space has the same sort of magnitudes in each feature's direction."
   ]
  },
  {
   "cell_type": "code",
   "execution_count": 139,
   "metadata": {
    "_cell_guid": "53412101-6e71-4420-9692-b23a30b4be6d",
    "_execution_state": "idle",
    "_uuid": "1ad3c26cdeca948fd61b06f91fdd06a9746ba90e",
    "collapsed": true
   },
   "outputs": [],
   "source": [
    "from sklearn.linear_model import LassoCV\n",
    "from sklearn.pipeline import Pipeline\n",
    "from sklearn.preprocessing import StandardScaler"
   ]
  },
  {
   "cell_type": "code",
   "execution_count": 140,
   "metadata": {
    "_cell_guid": "a45ff335-fc09-4893-98fa-da79f705f378",
    "_execution_state": "idle",
    "_uuid": "87f90c7d0575abab0397da62ce892e4af9b76314",
    "collapsed": true
   },
   "outputs": [],
   "source": [
    "scaler = StandardScaler()\n",
    "LCV = LassoCV()\n",
    "scale_LCV = Pipeline([('scaler',scaler),('LCV',LCV)])\n",
    "\n",
    "cv_score = cross_val_score(scale_LCV, train_unskew.drop(['SalePrice','Id'], axis = 1), train_unskew['SalePrice'], cv = 5, n_jobs=-1)"
   ]
  },
  {
   "cell_type": "code",
   "execution_count": 141,
   "metadata": {
    "_cell_guid": "bd747e58-3f2b-4559-9b31-8a98e3bb014c",
    "_execution_state": "idle",
    "_uuid": "d4dd6e3b9947cd41660a2b7756c3a85fbc8473fa"
   },
   "outputs": [
    {
     "name": "stdout",
     "output_type": "stream",
     "text": [
      "CV Score is: 0.9035868593557366\n"
     ]
    }
   ],
   "source": [
    "print('CV Score is: '+ str(np.mean(cv_score)))"
   ]
  },
  {
   "cell_type": "code",
   "execution_count": 145,
   "metadata": {},
   "outputs": [
    {
     "name": "stderr",
     "output_type": "stream",
     "text": [
      "/Users/KunWuYao/anaconda/lib/python3.5/site-packages/sklearn/linear_model/coordinate_descent.py:491: ConvergenceWarning: Objective did not converge. You might want to increase the number of iterations. Fitting data with very small alpha may cause precision problems.\n",
      "  ConvergenceWarning)\n"
     ]
    }
   ],
   "source": [
    "scale_LCV.fit(train_unskew.drop(['SalePrice','Id'], axis = 1), train_unskew['SalePrice'])\n",
    "\n",
    "pred = scale_LCV.predict(test_d.drop(['SalePrice', 'Id'], axis = 1))\n",
    "sub = pd.DataFrame()\n",
    "sub['Id'] = test['Id']\n",
    "sub['SalePrice'] = np.expm1(pred)\n",
    "sub.to_csv('lcvTry.csv', index = False)\n",
    "\n",
    "#0.12302 better!!"
   ]
  },
  {
   "cell_type": "markdown",
   "metadata": {
    "_cell_guid": "1b3d3aa6-d88b-412c-ae34-b0de950c375f",
    "_uuid": "f7deb434cafd7f793ce70cd47d594f2bce5d7b7a"
   },
   "source": [
    "A strong score. Submitting gives us 0.12303. Incredibly this destroys the XGBoost score, which goes to show that you can't always trust your CV score. In any case, we are in the top 30%.\n",
    "\n",
    "The beauty of Lasso is that it will drop features thanks to the use of the L1-norm. Of course this can be misleading, in the same way that a random forest's variable importances can be misleading, as having two competing but highly correlated features will mean one will get suppressed despite being highly predictive.\n",
    "\n",
    "For our interest, let's see what didn't get dropped, and had high weights:"
   ]
  },
  {
   "cell_type": "code",
   "execution_count": 146,
   "metadata": {
    "_cell_guid": "be2cc87a-c0ea-42f4-a06c-f338c851c337",
    "_execution_state": "idle",
    "_uuid": "55aae1f1252edad5a3811096b94186c359a7d072"
   },
   "outputs": [
    {
     "name": "stderr",
     "output_type": "stream",
     "text": [
      "/Users/KunWuYao/anaconda/lib/python3.5/site-packages/sklearn/linear_model/coordinate_descent.py:491: ConvergenceWarning: Objective did not converge. You might want to increase the number of iterations. Fitting data with very small alpha may cause precision problems.\n",
      "  ConvergenceWarning)\n"
     ]
    },
    {
     "data": {
      "text/plain": [
       "Pipeline(memory=None,\n",
       "     steps=[('scaler', StandardScaler(copy=True, with_mean=True, with_std=True)), ('LCV', LassoCV(alphas=None, copy_X=True, cv=None, eps=0.001, fit_intercept=True,\n",
       "    max_iter=1000, n_alphas=100, n_jobs=1, normalize=False, positive=False,\n",
       "    precompute='auto', random_state=None, selection='cyclic', tol=0.0001,\n",
       "    verbose=False))])"
      ]
     },
     "execution_count": 146,
     "metadata": {},
     "output_type": "execute_result"
    }
   ],
   "source": [
    "scale_LCV.fit(train_unskew.drop(['SalePrice','Id'], axis = 1), train_unskew['SalePrice'])"
   ]
  },
  {
   "cell_type": "code",
   "execution_count": 147,
   "metadata": {
    "_cell_guid": "3a11ce1b-3099-494a-9ae7-de962778d7c1",
    "_execution_state": "idle",
    "_uuid": "43359820998db1f6945557cccee87dc7bb1afcc0",
    "collapsed": true
   },
   "outputs": [],
   "source": [
    "lasso_w = scale_LCV.named_steps['LCV'].coef_\n",
    "cols= train_unskew.drop(['SalePrice','Id'], axis=1).columns"
   ]
  },
  {
   "cell_type": "code",
   "execution_count": 148,
   "metadata": {
    "_cell_guid": "be8aec81-812b-45a7-8ed1-3557c88c7ac3",
    "_execution_state": "idle",
    "_uuid": "880b1f04a29e7adaa08a5e132ae9ea0a6a941b2c",
    "collapsed": true
   },
   "outputs": [],
   "source": [
    "cols_w = pd.DataFrame()\n",
    "cols_w['Features'] = cols\n",
    "cols_w['LassoWeights'] = lasso_w\n",
    "cols_w['LassoWeightsMag'] = abs(lasso_w)"
   ]
  },
  {
   "cell_type": "code",
   "execution_count": 149,
   "metadata": {
    "_cell_guid": "66b57d6a-a90a-41b3-900f-7bcdb3b20d25",
    "_execution_state": "idle",
    "_uuid": "f7db91c7bc652b981811f51479592d4db12571fa",
    "scrolled": true
   },
   "outputs": [
    {
     "data": {
      "text/html": [
       "<div>\n",
       "<style scoped>\n",
       "    .dataframe tbody tr th:only-of-type {\n",
       "        vertical-align: middle;\n",
       "    }\n",
       "\n",
       "    .dataframe tbody tr th {\n",
       "        vertical-align: top;\n",
       "    }\n",
       "\n",
       "    .dataframe thead th {\n",
       "        text-align: right;\n",
       "    }\n",
       "</style>\n",
       "<table border=\"1\" class=\"dataframe\">\n",
       "  <thead>\n",
       "    <tr style=\"text-align: right;\">\n",
       "      <th></th>\n",
       "      <th>Features</th>\n",
       "      <th>LassoWeights</th>\n",
       "      <th>LassoWeightsMag</th>\n",
       "    </tr>\n",
       "  </thead>\n",
       "  <tbody>\n",
       "    <tr>\n",
       "      <th>0</th>\n",
       "      <td>LotFrontage</td>\n",
       "      <td>0.0</td>\n",
       "      <td>0.0</td>\n",
       "    </tr>\n",
       "    <tr>\n",
       "      <th>6</th>\n",
       "      <td>MasVnrArea</td>\n",
       "      <td>0.0</td>\n",
       "      <td>0.0</td>\n",
       "    </tr>\n",
       "    <tr>\n",
       "      <th>8</th>\n",
       "      <td>BsmtFinSF2</td>\n",
       "      <td>-0.0</td>\n",
       "      <td>0.0</td>\n",
       "    </tr>\n",
       "    <tr>\n",
       "      <th>9</th>\n",
       "      <td>BsmtUnfSF</td>\n",
       "      <td>-0.0</td>\n",
       "      <td>0.0</td>\n",
       "    </tr>\n",
       "    <tr>\n",
       "      <th>12</th>\n",
       "      <td>2ndFlrSF</td>\n",
       "      <td>0.0</td>\n",
       "      <td>0.0</td>\n",
       "    </tr>\n",
       "    <tr>\n",
       "      <th>13</th>\n",
       "      <td>LowQualFinSF</td>\n",
       "      <td>-0.0</td>\n",
       "      <td>0.0</td>\n",
       "    </tr>\n",
       "    <tr>\n",
       "      <th>16</th>\n",
       "      <td>BsmtHalfBath</td>\n",
       "      <td>0.0</td>\n",
       "      <td>0.0</td>\n",
       "    </tr>\n",
       "    <tr>\n",
       "      <th>19</th>\n",
       "      <td>BedroomAbvGr</td>\n",
       "      <td>0.0</td>\n",
       "      <td>0.0</td>\n",
       "    </tr>\n",
       "    <tr>\n",
       "      <th>21</th>\n",
       "      <td>TotRmsAbvGrd</td>\n",
       "      <td>0.0</td>\n",
       "      <td>0.0</td>\n",
       "    </tr>\n",
       "    <tr>\n",
       "      <th>23</th>\n",
       "      <td>GarageYrBlt</td>\n",
       "      <td>0.0</td>\n",
       "      <td>0.0</td>\n",
       "    </tr>\n",
       "    <tr>\n",
       "      <th>28</th>\n",
       "      <td>EnclosedPorch</td>\n",
       "      <td>0.0</td>\n",
       "      <td>0.0</td>\n",
       "    </tr>\n",
       "    <tr>\n",
       "      <th>29</th>\n",
       "      <td>3SsnPorch</td>\n",
       "      <td>0.0</td>\n",
       "      <td>0.0</td>\n",
       "    </tr>\n",
       "    <tr>\n",
       "      <th>31</th>\n",
       "      <td>PoolArea</td>\n",
       "      <td>0.0</td>\n",
       "      <td>0.0</td>\n",
       "    </tr>\n",
       "    <tr>\n",
       "      <th>32</th>\n",
       "      <td>MiscVal</td>\n",
       "      <td>-0.0</td>\n",
       "      <td>0.0</td>\n",
       "    </tr>\n",
       "    <tr>\n",
       "      <th>33</th>\n",
       "      <td>MoSold</td>\n",
       "      <td>-0.0</td>\n",
       "      <td>0.0</td>\n",
       "    </tr>\n",
       "    <tr>\n",
       "      <th>36</th>\n",
       "      <td>ExterCond_2num</td>\n",
       "      <td>0.0</td>\n",
       "      <td>0.0</td>\n",
       "    </tr>\n",
       "    <tr>\n",
       "      <th>37</th>\n",
       "      <td>BsmtQual_2num</td>\n",
       "      <td>0.0</td>\n",
       "      <td>0.0</td>\n",
       "    </tr>\n",
       "    <tr>\n",
       "      <th>38</th>\n",
       "      <td>BsmtCond_2num</td>\n",
       "      <td>0.0</td>\n",
       "      <td>0.0</td>\n",
       "    </tr>\n",
       "    <tr>\n",
       "      <th>43</th>\n",
       "      <td>GarageCond_2num</td>\n",
       "      <td>0.0</td>\n",
       "      <td>0.0</td>\n",
       "    </tr>\n",
       "    <tr>\n",
       "      <th>46</th>\n",
       "      <td>MSSubClass_40</td>\n",
       "      <td>-0.0</td>\n",
       "      <td>0.0</td>\n",
       "    </tr>\n",
       "    <tr>\n",
       "      <th>47</th>\n",
       "      <td>MSSubClass_45</td>\n",
       "      <td>0.0</td>\n",
       "      <td>0.0</td>\n",
       "    </tr>\n",
       "    <tr>\n",
       "      <th>48</th>\n",
       "      <td>MSSubClass_50</td>\n",
       "      <td>-0.0</td>\n",
       "      <td>0.0</td>\n",
       "    </tr>\n",
       "    <tr>\n",
       "      <th>49</th>\n",
       "      <td>MSSubClass_60</td>\n",
       "      <td>-0.0</td>\n",
       "      <td>0.0</td>\n",
       "    </tr>\n",
       "    <tr>\n",
       "      <th>50</th>\n",
       "      <td>MSSubClass_70</td>\n",
       "      <td>0.0</td>\n",
       "      <td>0.0</td>\n",
       "    </tr>\n",
       "    <tr>\n",
       "      <th>51</th>\n",
       "      <td>MSSubClass_75</td>\n",
       "      <td>0.0</td>\n",
       "      <td>0.0</td>\n",
       "    </tr>\n",
       "    <tr>\n",
       "      <th>52</th>\n",
       "      <td>MSSubClass_80</td>\n",
       "      <td>0.0</td>\n",
       "      <td>0.0</td>\n",
       "    </tr>\n",
       "    <tr>\n",
       "      <th>53</th>\n",
       "      <td>MSSubClass_85</td>\n",
       "      <td>0.0</td>\n",
       "      <td>0.0</td>\n",
       "    </tr>\n",
       "    <tr>\n",
       "      <th>55</th>\n",
       "      <td>MSSubClass_120</td>\n",
       "      <td>0.0</td>\n",
       "      <td>0.0</td>\n",
       "    </tr>\n",
       "    <tr>\n",
       "      <th>57</th>\n",
       "      <td>MSSubClass_180</td>\n",
       "      <td>0.0</td>\n",
       "      <td>0.0</td>\n",
       "    </tr>\n",
       "    <tr>\n",
       "      <th>58</th>\n",
       "      <td>MSSubClass_190</td>\n",
       "      <td>-0.0</td>\n",
       "      <td>0.0</td>\n",
       "    </tr>\n",
       "    <tr>\n",
       "      <th>...</th>\n",
       "      <td>...</td>\n",
       "      <td>...</td>\n",
       "      <td>...</td>\n",
       "    </tr>\n",
       "    <tr>\n",
       "      <th>254</th>\n",
       "      <td>GarageFinish_Unf</td>\n",
       "      <td>-0.0</td>\n",
       "      <td>0.0</td>\n",
       "    </tr>\n",
       "    <tr>\n",
       "      <th>258</th>\n",
       "      <td>GarageQual_None</td>\n",
       "      <td>-0.0</td>\n",
       "      <td>0.0</td>\n",
       "    </tr>\n",
       "    <tr>\n",
       "      <th>259</th>\n",
       "      <td>GarageQual_Po</td>\n",
       "      <td>-0.0</td>\n",
       "      <td>0.0</td>\n",
       "    </tr>\n",
       "    <tr>\n",
       "      <th>260</th>\n",
       "      <td>GarageQual_TA</td>\n",
       "      <td>0.0</td>\n",
       "      <td>0.0</td>\n",
       "    </tr>\n",
       "    <tr>\n",
       "      <th>261</th>\n",
       "      <td>GarageCond_Ex</td>\n",
       "      <td>-0.0</td>\n",
       "      <td>0.0</td>\n",
       "    </tr>\n",
       "    <tr>\n",
       "      <th>263</th>\n",
       "      <td>GarageCond_Gd</td>\n",
       "      <td>0.0</td>\n",
       "      <td>0.0</td>\n",
       "    </tr>\n",
       "    <tr>\n",
       "      <th>264</th>\n",
       "      <td>GarageCond_None</td>\n",
       "      <td>-0.0</td>\n",
       "      <td>0.0</td>\n",
       "    </tr>\n",
       "    <tr>\n",
       "      <th>265</th>\n",
       "      <td>GarageCond_Po</td>\n",
       "      <td>-0.0</td>\n",
       "      <td>0.0</td>\n",
       "    </tr>\n",
       "    <tr>\n",
       "      <th>266</th>\n",
       "      <td>GarageCond_TA</td>\n",
       "      <td>0.0</td>\n",
       "      <td>0.0</td>\n",
       "    </tr>\n",
       "    <tr>\n",
       "      <th>267</th>\n",
       "      <td>PavedDrive_N</td>\n",
       "      <td>-0.0</td>\n",
       "      <td>0.0</td>\n",
       "    </tr>\n",
       "    <tr>\n",
       "      <th>268</th>\n",
       "      <td>PavedDrive_P</td>\n",
       "      <td>-0.0</td>\n",
       "      <td>0.0</td>\n",
       "    </tr>\n",
       "    <tr>\n",
       "      <th>271</th>\n",
       "      <td>PoolQC_Fa</td>\n",
       "      <td>0.0</td>\n",
       "      <td>0.0</td>\n",
       "    </tr>\n",
       "    <tr>\n",
       "      <th>273</th>\n",
       "      <td>PoolQC_None</td>\n",
       "      <td>-0.0</td>\n",
       "      <td>0.0</td>\n",
       "    </tr>\n",
       "    <tr>\n",
       "      <th>274</th>\n",
       "      <td>Fence_GdPrv</td>\n",
       "      <td>0.0</td>\n",
       "      <td>0.0</td>\n",
       "    </tr>\n",
       "    <tr>\n",
       "      <th>276</th>\n",
       "      <td>Fence_MnPrv</td>\n",
       "      <td>-0.0</td>\n",
       "      <td>0.0</td>\n",
       "    </tr>\n",
       "    <tr>\n",
       "      <th>277</th>\n",
       "      <td>Fence_MnWw</td>\n",
       "      <td>-0.0</td>\n",
       "      <td>0.0</td>\n",
       "    </tr>\n",
       "    <tr>\n",
       "      <th>278</th>\n",
       "      <td>Fence_None</td>\n",
       "      <td>0.0</td>\n",
       "      <td>0.0</td>\n",
       "    </tr>\n",
       "    <tr>\n",
       "      <th>279</th>\n",
       "      <td>MiscFeature_Gar2</td>\n",
       "      <td>-0.0</td>\n",
       "      <td>0.0</td>\n",
       "    </tr>\n",
       "    <tr>\n",
       "      <th>280</th>\n",
       "      <td>MiscFeature_None</td>\n",
       "      <td>0.0</td>\n",
       "      <td>0.0</td>\n",
       "    </tr>\n",
       "    <tr>\n",
       "      <th>282</th>\n",
       "      <td>MiscFeature_Shed</td>\n",
       "      <td>-0.0</td>\n",
       "      <td>0.0</td>\n",
       "    </tr>\n",
       "    <tr>\n",
       "      <th>283</th>\n",
       "      <td>MiscFeature_TenC</td>\n",
       "      <td>0.0</td>\n",
       "      <td>0.0</td>\n",
       "    </tr>\n",
       "    <tr>\n",
       "      <th>284</th>\n",
       "      <td>SaleType_COD</td>\n",
       "      <td>-0.0</td>\n",
       "      <td>0.0</td>\n",
       "    </tr>\n",
       "    <tr>\n",
       "      <th>285</th>\n",
       "      <td>SaleType_CWD</td>\n",
       "      <td>0.0</td>\n",
       "      <td>0.0</td>\n",
       "    </tr>\n",
       "    <tr>\n",
       "      <th>288</th>\n",
       "      <td>SaleType_ConLI</td>\n",
       "      <td>-0.0</td>\n",
       "      <td>0.0</td>\n",
       "    </tr>\n",
       "    <tr>\n",
       "      <th>289</th>\n",
       "      <td>SaleType_ConLw</td>\n",
       "      <td>0.0</td>\n",
       "      <td>0.0</td>\n",
       "    </tr>\n",
       "    <tr>\n",
       "      <th>291</th>\n",
       "      <td>SaleType_Oth</td>\n",
       "      <td>0.0</td>\n",
       "      <td>0.0</td>\n",
       "    </tr>\n",
       "    <tr>\n",
       "      <th>294</th>\n",
       "      <td>SaleCondition_AdjLand</td>\n",
       "      <td>0.0</td>\n",
       "      <td>0.0</td>\n",
       "    </tr>\n",
       "    <tr>\n",
       "      <th>295</th>\n",
       "      <td>SaleCondition_Alloca</td>\n",
       "      <td>0.0</td>\n",
       "      <td>0.0</td>\n",
       "    </tr>\n",
       "    <tr>\n",
       "      <th>297</th>\n",
       "      <td>SaleCondition_Normal</td>\n",
       "      <td>0.0</td>\n",
       "      <td>0.0</td>\n",
       "    </tr>\n",
       "    <tr>\n",
       "      <th>298</th>\n",
       "      <td>SaleCondition_Partial</td>\n",
       "      <td>0.0</td>\n",
       "      <td>0.0</td>\n",
       "    </tr>\n",
       "  </tbody>\n",
       "</table>\n",
       "<p>193 rows × 3 columns</p>\n",
       "</div>"
      ],
      "text/plain": [
       "                  Features  LassoWeights  LassoWeightsMag\n",
       "0              LotFrontage           0.0              0.0\n",
       "6               MasVnrArea           0.0              0.0\n",
       "8               BsmtFinSF2          -0.0              0.0\n",
       "9                BsmtUnfSF          -0.0              0.0\n",
       "12                2ndFlrSF           0.0              0.0\n",
       "13            LowQualFinSF          -0.0              0.0\n",
       "16            BsmtHalfBath           0.0              0.0\n",
       "19            BedroomAbvGr           0.0              0.0\n",
       "21            TotRmsAbvGrd           0.0              0.0\n",
       "23             GarageYrBlt           0.0              0.0\n",
       "28           EnclosedPorch           0.0              0.0\n",
       "29               3SsnPorch           0.0              0.0\n",
       "31                PoolArea           0.0              0.0\n",
       "32                 MiscVal          -0.0              0.0\n",
       "33                  MoSold          -0.0              0.0\n",
       "36          ExterCond_2num           0.0              0.0\n",
       "37           BsmtQual_2num           0.0              0.0\n",
       "38           BsmtCond_2num           0.0              0.0\n",
       "43         GarageCond_2num           0.0              0.0\n",
       "46           MSSubClass_40          -0.0              0.0\n",
       "47           MSSubClass_45           0.0              0.0\n",
       "48           MSSubClass_50          -0.0              0.0\n",
       "49           MSSubClass_60          -0.0              0.0\n",
       "50           MSSubClass_70           0.0              0.0\n",
       "51           MSSubClass_75           0.0              0.0\n",
       "52           MSSubClass_80           0.0              0.0\n",
       "53           MSSubClass_85           0.0              0.0\n",
       "55          MSSubClass_120           0.0              0.0\n",
       "57          MSSubClass_180           0.0              0.0\n",
       "58          MSSubClass_190          -0.0              0.0\n",
       "..                     ...           ...              ...\n",
       "254       GarageFinish_Unf          -0.0              0.0\n",
       "258        GarageQual_None          -0.0              0.0\n",
       "259          GarageQual_Po          -0.0              0.0\n",
       "260          GarageQual_TA           0.0              0.0\n",
       "261          GarageCond_Ex          -0.0              0.0\n",
       "263          GarageCond_Gd           0.0              0.0\n",
       "264        GarageCond_None          -0.0              0.0\n",
       "265          GarageCond_Po          -0.0              0.0\n",
       "266          GarageCond_TA           0.0              0.0\n",
       "267           PavedDrive_N          -0.0              0.0\n",
       "268           PavedDrive_P          -0.0              0.0\n",
       "271              PoolQC_Fa           0.0              0.0\n",
       "273            PoolQC_None          -0.0              0.0\n",
       "274            Fence_GdPrv           0.0              0.0\n",
       "276            Fence_MnPrv          -0.0              0.0\n",
       "277             Fence_MnWw          -0.0              0.0\n",
       "278             Fence_None           0.0              0.0\n",
       "279       MiscFeature_Gar2          -0.0              0.0\n",
       "280       MiscFeature_None           0.0              0.0\n",
       "282       MiscFeature_Shed          -0.0              0.0\n",
       "283       MiscFeature_TenC           0.0              0.0\n",
       "284           SaleType_COD          -0.0              0.0\n",
       "285           SaleType_CWD           0.0              0.0\n",
       "288         SaleType_ConLI          -0.0              0.0\n",
       "289         SaleType_ConLw           0.0              0.0\n",
       "291           SaleType_Oth           0.0              0.0\n",
       "294  SaleCondition_AdjLand           0.0              0.0\n",
       "295   SaleCondition_Alloca           0.0              0.0\n",
       "297   SaleCondition_Normal           0.0              0.0\n",
       "298  SaleCondition_Partial           0.0              0.0\n",
       "\n",
       "[193 rows x 3 columns]"
      ]
     },
     "execution_count": 149,
     "metadata": {},
     "output_type": "execute_result"
    }
   ],
   "source": [
    "cols_w[cols_w.LassoWeights==0]"
   ]
  },
  {
   "cell_type": "markdown",
   "metadata": {
    "_cell_guid": "711d053e-fb48-4147-a7cf-685af47fdfc3",
    "_uuid": "dd216b64bd62dad1a16ee69cd4e261afa28eb1c3"
   },
   "source": [
    "Funnily enough, LotFrontage gets dropped! That will teach us next time to spend so much time data engineering :) Joking aside, it looks like a lot of dummy variables get removed. What about the important features?"
   ]
  },
  {
   "cell_type": "code",
   "execution_count": 150,
   "metadata": {
    "_cell_guid": "73136b1c-db8a-4836-9b7c-90dc87a5dc0d",
    "_execution_state": "idle",
    "_uuid": "483791924ebda1b7cc7e89f03243986147db90f5"
   },
   "outputs": [
    {
     "data": {
      "text/html": [
       "<div>\n",
       "<style scoped>\n",
       "    .dataframe tbody tr th:only-of-type {\n",
       "        vertical-align: middle;\n",
       "    }\n",
       "\n",
       "    .dataframe tbody tr th {\n",
       "        vertical-align: top;\n",
       "    }\n",
       "\n",
       "    .dataframe thead th {\n",
       "        text-align: right;\n",
       "    }\n",
       "</style>\n",
       "<table border=\"1\" class=\"dataframe\">\n",
       "  <thead>\n",
       "    <tr style=\"text-align: right;\">\n",
       "      <th></th>\n",
       "      <th>Features</th>\n",
       "      <th>LassoWeights</th>\n",
       "      <th>LassoWeightsMag</th>\n",
       "    </tr>\n",
       "  </thead>\n",
       "  <tbody>\n",
       "    <tr>\n",
       "      <th>14</th>\n",
       "      <td>GrLivArea</td>\n",
       "      <td>0.124124</td>\n",
       "      <td>0.124124</td>\n",
       "    </tr>\n",
       "    <tr>\n",
       "      <th>2</th>\n",
       "      <td>OverallQual</td>\n",
       "      <td>0.069507</td>\n",
       "      <td>0.069507</td>\n",
       "    </tr>\n",
       "    <tr>\n",
       "      <th>4</th>\n",
       "      <td>YearBuilt</td>\n",
       "      <td>0.041406</td>\n",
       "      <td>0.041406</td>\n",
       "    </tr>\n",
       "    <tr>\n",
       "      <th>24</th>\n",
       "      <td>GarageCars</td>\n",
       "      <td>0.040665</td>\n",
       "      <td>0.040665</td>\n",
       "    </tr>\n",
       "    <tr>\n",
       "      <th>3</th>\n",
       "      <td>OverallCond</td>\n",
       "      <td>0.036772</td>\n",
       "      <td>0.036772</td>\n",
       "    </tr>\n",
       "    <tr>\n",
       "      <th>1</th>\n",
       "      <td>LotArea</td>\n",
       "      <td>0.034848</td>\n",
       "      <td>0.034848</td>\n",
       "    </tr>\n",
       "    <tr>\n",
       "      <th>59</th>\n",
       "      <td>MSZoning_C (all)</td>\n",
       "      <td>-0.028976</td>\n",
       "      <td>0.028976</td>\n",
       "    </tr>\n",
       "    <tr>\n",
       "      <th>7</th>\n",
       "      <td>BsmtFinSF1</td>\n",
       "      <td>0.024690</td>\n",
       "      <td>0.024690</td>\n",
       "    </tr>\n",
       "    <tr>\n",
       "      <th>11</th>\n",
       "      <td>1stFlrSF</td>\n",
       "      <td>0.021916</td>\n",
       "      <td>0.021916</td>\n",
       "    </tr>\n",
       "    <tr>\n",
       "      <th>89</th>\n",
       "      <td>Neighborhood_Crawfor</td>\n",
       "      <td>0.018437</td>\n",
       "      <td>0.018437</td>\n",
       "    </tr>\n",
       "    <tr>\n",
       "      <th>10</th>\n",
       "      <td>TotalBsmtSF</td>\n",
       "      <td>0.017167</td>\n",
       "      <td>0.017167</td>\n",
       "    </tr>\n",
       "    <tr>\n",
       "      <th>99</th>\n",
       "      <td>Neighborhood_NridgHt</td>\n",
       "      <td>0.017155</td>\n",
       "      <td>0.017155</td>\n",
       "    </tr>\n",
       "    <tr>\n",
       "      <th>237</th>\n",
       "      <td>Functional_Typ</td>\n",
       "      <td>0.015494</td>\n",
       "      <td>0.015494</td>\n",
       "    </tr>\n",
       "    <tr>\n",
       "      <th>98</th>\n",
       "      <td>Neighborhood_NoRidge</td>\n",
       "      <td>0.015490</td>\n",
       "      <td>0.015490</td>\n",
       "    </tr>\n",
       "    <tr>\n",
       "      <th>90</th>\n",
       "      <td>Neighborhood_Edwards</td>\n",
       "      <td>-0.015131</td>\n",
       "      <td>0.015131</td>\n",
       "    </tr>\n",
       "  </tbody>\n",
       "</table>\n",
       "</div>"
      ],
      "text/plain": [
       "                 Features  LassoWeights  LassoWeightsMag\n",
       "14              GrLivArea      0.124124         0.124124\n",
       "2             OverallQual      0.069507         0.069507\n",
       "4               YearBuilt      0.041406         0.041406\n",
       "24             GarageCars      0.040665         0.040665\n",
       "3             OverallCond      0.036772         0.036772\n",
       "1                 LotArea      0.034848         0.034848\n",
       "59       MSZoning_C (all)     -0.028976         0.028976\n",
       "7              BsmtFinSF1      0.024690         0.024690\n",
       "11               1stFlrSF      0.021916         0.021916\n",
       "89   Neighborhood_Crawfor      0.018437         0.018437\n",
       "10            TotalBsmtSF      0.017167         0.017167\n",
       "99   Neighborhood_NridgHt      0.017155         0.017155\n",
       "237        Functional_Typ      0.015494         0.015494\n",
       "98   Neighborhood_NoRidge      0.015490         0.015490\n",
       "90   Neighborhood_Edwards     -0.015131         0.015131"
      ]
     },
     "execution_count": 150,
     "metadata": {},
     "output_type": "execute_result"
    }
   ],
   "source": [
    "cols_w.sort_values(by='LassoWeightsMag',ascending=False)[:15]"
   ]
  },
  {
   "cell_type": "markdown",
   "metadata": {
    "_cell_guid": "db4682ab-f97a-47f8-b439-f21f65efd145",
    "_uuid": "ba289a1868a7defc378c1ed6467f7bfa8e85b535",
    "collapsed": true
   },
   "source": [
    "Not too many surprises here. Properties in commercial areas are worth less, bigger houses and garages are worth more, as are good quality houses. Furthermore, a bit of in depth cyberstalking of the neighborhoods seems to back up the numbers."
   ]
  },
  {
   "cell_type": "markdown",
   "metadata": {
    "_cell_guid": "ab65af56-6cc2-4402-94ab-2716f1b7621c",
    "_uuid": "df81ad253f1a6afdd2bb832fa2a28466158e4148",
    "collapsed": true
   },
   "source": [
    "# 5. More Data Exploration and Engineering"
   ]
  },
  {
   "cell_type": "markdown",
   "metadata": {
    "_cell_guid": "af574b50-a87a-44ff-ad9a-f41dbd7f2330",
    "_uuid": "6d5d4fb4614a193fc44c7196768831b7087de1e6"
   },
   "source": [
    "We've done well but we've hit a bit of an impasse. We've scrabbled up into the top 30%, which is the easy part. Now however, we will need to take careful consideration about the data we have and creative ways of treating it which will provide us with the final push that we need to make the top 10%."
   ]
  },
  {
   "cell_type": "markdown",
   "metadata": {
    "_cell_guid": "11afb194-eac8-421a-bb13-19f345b6145c",
    "_uuid": "fa67ab2563b6e03ac238d31e57958789ca12c6b0"
   },
   "source": [
    "## Outliers?"
   ]
  },
  {
   "cell_type": "markdown",
   "metadata": {
    "_cell_guid": "2cd60f0d-faeb-4055-b809-561b5cf077e0",
    "_uuid": "4d41e31033117e19ec32d26e00150f7c5385be07"
   },
   "source": [
    "For those of you familiar with classification problems, outliers aren't usually too big a deal. Since the target is only 1 or 0, the impact of these points isn't that large as long as we have a decently sized population (which we just about do with 1500). However with regression it's a different story.\n",
    "\n",
    "I can highly recommend reading the following [lecture notes](https://quantoid.net/files/702/lecture9.pdf); in short, we can now turn to econometrics to help us deal with the effect of outliers. I'm going to outline two approaches, both of which achieve similar results."
   ]
  },
  {
   "cell_type": "markdown",
   "metadata": {
    "_cell_guid": "b8de1cf6-1443-448d-9683-f5bb545674cd",
    "_uuid": "0ad4e18a9f7a011a28ef00492ccea3319df9fc5c"
   },
   "source": [
    "### Manually Detect Outliers"
   ]
  },
  {
   "cell_type": "markdown",
   "metadata": {
    "_cell_guid": "24438fbb-3eee-4618-befc-9b67919759e6",
    "_uuid": "603aae3397cf0571942ca9678e78858ae4831197"
   },
   "source": [
    "Heuristic but effective. The way we ought to approach this is to look at our Lasso model and identify which features have the largest weightings, and therefore effect on the final prediction. Luckily we've just done this, so let's plot univariate distributions against the SalePrice for the top 5 important variables:"
   ]
  },
  {
   "cell_type": "code",
   "execution_count": 151,
   "metadata": {
    "_cell_guid": "5d7c8139-52d5-4daf-ad30-e10a0cf242d1",
    "_execution_state": "idle",
    "_uuid": "e70ab252c31c905f02e5cb92d5e2747bcc49049b",
    "collapsed": true
   },
   "outputs": [],
   "source": [
    "top5_feats = list(cols_w.sort_values(by='LassoWeightsMag',ascending=False)[:5].Features)"
   ]
  },
  {
   "cell_type": "code",
   "execution_count": 152,
   "metadata": {
    "_cell_guid": "3753a3a2-79b4-4fcb-a278-56f9640a24ae",
    "_execution_state": "idle",
    "_uuid": "b5d215587dcec722fd7f2ad89712c7cc2b4d1bc3",
    "collapsed": true
   },
   "outputs": [],
   "source": [
    "def print_scatters(df_in, cols, against):   \n",
    "    plt.figure(1)\n",
    "    # sets the number of figure row (ie: for 10 variables, we need 5, for 9 we \n",
    "    # need 5 as well)\n",
    "    rows = math.ceil(len(cols)/2)\n",
    "    f, axarr = plt.subplots(rows, 2, figsize=(10, rows*3))\n",
    "    # for each variable you inputted, plot it against the dependant\n",
    "    for col in cols:\n",
    "        ind = cols.index(col)\n",
    "        i = math.floor(ind/2)\n",
    "        j = 0 if ind % 2 == 0 else 1\n",
    "        if col != against:\n",
    "            sns.regplot(data = df_in, x=col, y=against, fit_reg=False, ax=axarr[i,j])\n",
    "        else:\n",
    "            sns.distplot(a = df_in[col], ax=axarr[i,j])\n",
    "        axarr[i, j].set_title(col)\n",
    "    f.text(-0.01, 0.5, against, va='center', rotation='vertical', fontsize = 12)\n",
    "    plt.tight_layout()\n",
    "    plt.show()\n",
    "    plt.gcf().clear()"
   ]
  },
  {
   "cell_type": "code",
   "execution_count": 153,
   "metadata": {
    "_cell_guid": "f0c7d74a-9671-4c50-a795-9db4ac27c5ab",
    "_execution_state": "idle",
    "_uuid": "1c0dbc72260a813bf7e1b0fb5d01c1375acd3915"
   },
   "outputs": [
    {
     "data": {
      "text/plain": [
       "<matplotlib.figure.Figure at 0x113484358>"
      ]
     },
     "metadata": {},
     "output_type": "display_data"
    },
    {
     "data": {
      "image/png": "[encoded data removed]",
      "text/plain": [
       "<matplotlib.figure.Figure at 0x1149f7828>"
      ]
     },
     "metadata": {},
     "output_type": "display_data"
    }
   ],
   "source": [
    "print_scatters(df_in=train,cols=['SalePrice']+top5_feats,against='SalePrice')"
   ]
  },
  {
   "cell_type": "markdown",
   "metadata": {
    "_cell_guid": "24f2507d-7eff-4efd-9a9f-9004c94f5c80",
    "_uuid": "5f2c71ce99aa005e21a38f7d06f51c40ccbe780d"
   },
   "source": [
    "Immediately two points jump out, both of which are GrLivArea, the most important feature. In case you haven't spotted them, look at the two houses above 4500 sqft in living area. These are the two biggest houses yet are also very cheap. This is a problem, as if you look at the lecture notes linked above, they are outliers with high leverage, meaning they can cause huge overfit to them. Let's do a bit more analysis:"
   ]
  },
  {
   "cell_type": "code",
   "execution_count": 154,
   "metadata": {
    "_cell_guid": "8f886540-1d33-4304-87db-5622df0456ac",
    "_execution_state": "idle",
    "_uuid": "864253166b788a5e72da545a7fe9fe02465c40cc"
   },
   "outputs": [
    {
     "data": {
      "text/plain": [
       "<matplotlib.figure.Figure at 0x113b3fef0>"
      ]
     },
     "metadata": {},
     "output_type": "display_data"
    },
    {
     "data": {
      "image/png": "[encoded data removed]",
      "text/plain": [
       "<matplotlib.figure.Figure at 0x113a40780>"
      ]
     },
     "metadata": {},
     "output_type": "display_data"
    }
   ],
   "source": [
    "sns.lmplot(data=train, x='GrLivArea',y='SalePrice')\n",
    "plt.show()\n",
    "plt.gcf().clear()"
   ]
  },
  {
   "cell_type": "markdown",
   "metadata": {
    "_cell_guid": "e18da93c-5bd9-4130-9dde-8b596d5770ab",
    "_uuid": "078f2e2d70055b49e36367e5d3d444532dd49e3f"
   },
   "source": [
    "Now removing these two:"
   ]
  },
  {
   "cell_type": "code",
   "execution_count": 155,
   "metadata": {
    "_cell_guid": "1e7b2de5-2cea-4435-b84b-209933377617",
    "_execution_state": "idle",
    "_uuid": "58f6cb29c1e7347895484699521ffd7f27d3302f"
   },
   "outputs": [
    {
     "data": {
      "text/plain": [
       "<matplotlib.figure.Figure at 0x113a1fe80>"
      ]
     },
     "metadata": {},
     "output_type": "display_data"
    },
    {
     "data": {
      "image/png": "[encoded data removed]",
      "text/plain": [
       "<matplotlib.figure.Figure at 0x113c3aba8>"
      ]
     },
     "metadata": {},
     "output_type": "display_data"
    }
   ],
   "source": [
    "sns.lmplot(data=train[train.GrLivArea < 4500], x='GrLivArea',y='SalePrice')\n",
    "plt.show()\n",
    "plt.gcf().clear()"
   ]
  },
  {
   "cell_type": "markdown",
   "metadata": {
    "_cell_guid": "bc34e901-c79a-476d-af95-df807c782acd",
    "_uuid": "4e8b7b87df01df03f022023f540053c27e533c7f"
   },
   "source": [
    "This is a remarkable change, as simply removing two points has resulted in a visible shift in the curve, despite the effect of the remaining data. Furthermore, the confidence interval of our plots has improved massively.\n",
    "\n",
    "Submitting confirms the necessecity to remove these points, with a nice improved score of 0.12174. We are now in the top 27%.\n",
    "\n",
    "Clearly these outliers were preventing our model from generalising onto new data!"
   ]
  },
  {
   "cell_type": "markdown",
   "metadata": {
    "_cell_guid": "5ac4e8f1-f782-4c5d-9a95-d97054d0bcfa",
    "_uuid": "1fe7a24edb19fa6d896e051780b7ea9197f3fe27"
   },
   "source": [
    "### A more statistical approach?"
   ]
  },
  {
   "cell_type": "markdown",
   "metadata": {
    "_cell_guid": "305512ed-a51b-4fd6-8efa-c70627665a3e",
    "_uuid": "8c23506807db3234e78eb66c41bc8cd6002e79c0"
   },
   "source": [
    "Of course we might have juts gotten lucky by stumbling upon these two outliers. Why don't we try something more analytical, and therefore repeatable?\n",
    "\n",
    "If you refer to the notes linked above, you can find an interesting statistical test described on slides 29 onwards. Effectively we can do Leave-One-Out with a OLS, and then perform hypothesis tests on the standard deviation of the residuals (they are t-distributed), allowing us to determine which points have a significant effect on the fit of our models. To me this makes sense since the model used is OLS, and the Lasso belongs to this family of regressors.\n",
    "\n",
    "The Bonferroni corrected test is included in Statsmodels, so we'll use it here. Note that this takes a very long time to run, so I'll simply post the code but it is up to you to run it."
   ]
  },
  {
   "cell_type": "code",
   "execution_count": 156,
   "metadata": {
    "_cell_guid": "a89aa5a3-8668-4c43-b9d0-d3c4b2ed6ead",
    "_execution_state": "idle",
    "_uuid": "b9462848ca1f2bfd5daf392c8e064b58deaf02d0"
   },
   "outputs": [
    {
     "name": "stderr",
     "output_type": "stream",
     "text": [
      "/Users/KunWuYao/anaconda/lib/python3.5/site-packages/statsmodels/compat/pandas.py:56: FutureWarning: The pandas.core.datetools module is deprecated and will be removed in a future version. Please use the pandas.tseries module instead.\n",
      "  from pandas.core import datetools\n"
     ]
    }
   ],
   "source": [
    "import statsmodels.api as sm"
   ]
  },
  {
   "cell_type": "code",
   "execution_count": 157,
   "metadata": {
    "_cell_guid": "fdde76ac-9ed0-45c6-bd5a-42ad97fd279d",
    "_uuid": "58dc19b34c55da03d7412acb1c5118b3202f01db",
    "collapsed": true
   },
   "outputs": [],
   "source": [
    "y = train_unskew['SalePrice']\n",
    "X = train_unskew.drop(['SalePrice','Id'], axis = 1)"
   ]
  },
  {
   "cell_type": "code",
   "execution_count": 158,
   "metadata": {
    "_cell_guid": "f52b00f5-35f1-4833-8d7e-d81223009b78",
    "_uuid": "3abd981e672f33f3323be98091e4e7113d70e29b",
    "collapsed": true
   },
   "outputs": [],
   "source": [
    "model = sm.OLS(y,X)"
   ]
  },
  {
   "cell_type": "code",
   "execution_count": 159,
   "metadata": {
    "_cell_guid": "f58df6dc-3036-4a76-bcac-60f08d92987b",
    "_uuid": "b621f4441b25b8a6ab73b46198690990c3a79477",
    "collapsed": true
   },
   "outputs": [],
   "source": [
    "results = model.fit()"
   ]
  },
  {
   "cell_type": "code",
   "execution_count": 160,
   "metadata": {
    "_cell_guid": "3f5580f3-71c0-4966-8285-b4630bdd6d86",
    "_uuid": "a91d5303487d3c0c26947448c3553eff1a0724a2"
   },
   "outputs": [
    {
     "name": "stderr",
     "output_type": "stream",
     "text": [
      "/Users/KunWuYao/anaconda/lib/python3.5/site-packages/statsmodels/stats/outliers_influence.py:309: RuntimeWarning: invalid value encountered in sqrt\n",
      "  return  self.results.resid / sigma / np.sqrt(1 - hii)\n",
      "/Users/KunWuYao/anaconda/lib/python3.5/site-packages/scipy/stats/_distn_infrastructure.py:879: RuntimeWarning: invalid value encountered in greater\n",
      "  return (self.a < x) & (x < self.b)\n",
      "/Users/KunWuYao/anaconda/lib/python3.5/site-packages/scipy/stats/_distn_infrastructure.py:879: RuntimeWarning: invalid value encountered in less\n",
      "  return (self.a < x) & (x < self.b)\n",
      "/Users/KunWuYao/anaconda/lib/python3.5/site-packages/scipy/stats/_distn_infrastructure.py:1821: RuntimeWarning: invalid value encountered in less_equal\n",
      "  cond2 = cond0 & (x <= self.a)\n",
      "/Users/KunWuYao/anaconda/lib/python3.5/site-packages/statsmodels/stats/multitest.py:147: RuntimeWarning: invalid value encountered in less_equal\n",
      "  reject = pvals <= alphacBonf\n",
      "/Users/KunWuYao/anaconda/lib/python3.5/site-packages/statsmodels/stats/multitest.py:251: RuntimeWarning: invalid value encountered in greater\n",
      "  pvals_corrected[pvals_corrected>1] = 1\n"
     ]
    }
   ],
   "source": [
    "bonf_test = results.outlier_test()['bonf(p)']"
   ]
  },
  {
   "cell_type": "code",
   "execution_count": 161,
   "metadata": {
    "_cell_guid": "5ea54f13-a500-4453-b2be-909948801dd7",
    "_uuid": "73df32136548f6f895d7bef82b3e3fb8977a981b"
   },
   "outputs": [
    {
     "name": "stdout",
     "output_type": "stream",
     "text": [
      "462     1.172650e-06\n",
      "523     8.459360e-26\n",
      "632     6.108144e-10\n",
      "968     2.093334e-05\n",
      "1170    1.171896e-06\n",
      "1298    2.388998e-06\n",
      "1324    5.077893e-06\n",
      "1423    1.468645e-05\n",
      "Name: bonf(p), dtype: float64\n"
     ]
    }
   ],
   "source": [
    "bonf_outlier = list(bonf_test[bonf_test<1e-3].index)\n",
    "print(bonf_test[bonf_test<1e-3])"
   ]
  },
  {
   "cell_type": "markdown",
   "metadata": {
    "_cell_guid": "afb208c0-78d8-4d4f-8fea-425670ee6926",
    "_uuid": "da23b9ba320ee4030bbebe7e441eb8794fa54d07"
   },
   "source": [
    "I chose a p-value of less than 0.001 on the results that MeiChengShih got in this [thread](https://www.kaggle.com/c/house-prices-advanced-regression-techniques/discussion/23409).\n",
    "\n",
    "Running the above gave me the following outliers:"
   ]
  },
  {
   "cell_type": "code",
   "execution_count": 162,
   "metadata": {
    "_cell_guid": "6bda2ba1-fccb-48d4-8252-0e103256a94f",
    "_execution_state": "idle",
    "_uuid": "fac4861923e72e0f4d21c4c7a777c1bae5cc01f9",
    "collapsed": true
   },
   "outputs": [],
   "source": [
    "bonf_outliers = [88,462,523,588,632,968,1298,1324]"
   ]
  },
  {
   "cell_type": "markdown",
   "metadata": {
    "_cell_guid": "f60c6f7e-0583-4a9a-88e7-e70757fdad23",
    "_uuid": "ef7756b2cb7282bef6783e74a4f42c8d8eaf57f1"
   },
   "source": [
    "Thankfully the two points highlighted above also exist in the above list, thus further validating this as an approach to discovering outliers.\n",
    "\n",
    "Removing the above points gives a very similar result (0.1216x) to the one obtained by manually determining and removing the two outliers. Whilst it is tempted to be disappointed by this, I see this as encouraging as it gives us an analytical way of achieving the same results without needing to rely on lady luck to present us the offending points."
   ]
  },
  {
   "cell_type": "markdown",
   "metadata": {
    "_cell_guid": "fc0b7caa-f659-46b4-972d-300c04c7a214",
    "_uuid": "3c58b3632db0611498f2af1658ea4be8da7e1624"
   },
   "source": [
    "## Overfitting columns amongst other things"
   ]
  },
  {
   "cell_type": "markdown",
   "metadata": {
    "_cell_guid": "e7decdc7-073e-48ea-b290-a006a40241c6",
    "_uuid": "8281e92fa5c22ab589046e90c2fa5fe6d1516fb4"
   },
   "source": [
    "At this point I averaged the result from my XGBoost and Lasso and climbed into the top 18%. I also tried a whole litany of different data engineering steps to improve my predictions to no avail.\n",
    "\n",
    "I therefore thought it was time I checked out some other kernels to see what they were doing right. A [post](https://www.kaggle.com/c/house-prices-advanced-regression-techniques/discussion/36280) I made was helpfully responded to by olivier, who pointed me in the direction of removing columns and overall looking at ways to improve the way my data generalised.\n",
    "\n",
    "As a result, I discovered the incredibly comprehensive kernel of [Human Analog](https://www.kaggle.com/humananalog/xgboost-lasso). Immediately I noticed a couple things I'd been doing wrongly, including the presence of nulls in the test set.\n",
    "\n",
    "Therefore I decided to borrow some of the ideas, as well as one of my own, which is to use the medians derived across both the test and train set."
   ]
  },
  {
   "cell_type": "markdown",
   "metadata": {
    "_cell_guid": "e6bdbbf0-2928-4246-81d9-3d9ce0d64994",
    "_uuid": "37779c561363cf1e252615db368209e9925682a8"
   },
   "source": [
    "### A note on overfitting"
   ]
  },
  {
   "cell_type": "markdown",
   "metadata": {
    "_cell_guid": "2187811c-8765-46ec-9163-3cf430b54aee",
    "_uuid": "3600f74eb6c483f82737b04efb298776f158afbb"
   },
   "source": [
    "What is important to note however is that of all the things I borrowed from Human Analog, the most important was removing two columns which were causing overfit, namely MSSubClass_160 and MSZoning_C (all).\n",
    "\n",
    "As to how I'd find these in reality I'm not sure. A few ideas were discussed on the aforementioned thread between myself and olivier, but it boils down to the fact that there isn't enough data in this set, which is why these features cause overfit on CV."
   ]
  },
  {
   "cell_type": "markdown",
   "metadata": {
    "_cell_guid": "ba0382c8-effc-4a71-aeca-4e168ed6f574",
    "_uuid": "54eea8aad9ead3365e7350cb818b48dddbd636a2"
   },
   "source": [
    "### The final steps"
   ]
  },
  {
   "cell_type": "markdown",
   "metadata": {
    "_cell_guid": "c2c78a29-ab23-4798-91e2-6ff757ead30f",
    "_uuid": "c97db83114815cf938ef83b0e2c00cd34ad079b0"
   },
   "source": [
    "I am now going to print the final data engineering steps below which got me the data which formed the basis of my top 10% entry."
   ]
  },
  {
   "cell_type": "markdown",
   "metadata": {
    "_cell_guid": "2a525d3d-10a6-4595-bf7d-0b859e63245c",
    "_uuid": "49e51c909b55f86b2a1077f0a6d79828b97651b5"
   },
   "source": [
    "### Combine the two sets for medians"
   ]
  },
  {
   "cell_type": "markdown",
   "metadata": {
    "_cell_guid": "902fbfa3-2b3f-4ce1-8df3-4b68f8b72828",
    "_uuid": "ef00505128d959bd11c88b34559df0d1c188c3ca"
   },
   "source": [
    "### 0s"
   ]
  },
  {
   "cell_type": "code",
   "execution_count": 163,
   "metadata": {
    "_cell_guid": "750b17d6-5ecc-44f4-94b1-e2f720604b41",
    "_execution_state": "idle",
    "_uuid": "9208e38768681bfb6ccb2604b2a763715da08731",
    "collapsed": true
   },
   "outputs": [],
   "source": [
    "train_test_raw = train.append(test)"
   ]
  },
  {
   "cell_type": "code",
   "execution_count": 164,
   "metadata": {
    "_cell_guid": "a4eaace6-606e-4680-b528-6f86409739bf",
    "_execution_state": "idle",
    "_uuid": "5346274ef1df67f28ca02546068fc6dd3eef6865",
    "collapsed": true
   },
   "outputs": [],
   "source": [
    "lot_frontage_by_neighborhood_all = train_test_raw[\"LotFrontage\"].groupby(train_test_raw[\"Neighborhood\"])"
   ]
  },
  {
   "cell_type": "markdown",
   "metadata": {
    "_cell_guid": "71d2c853-c3f2-4a11-a72a-99681959f870",
    "_uuid": "a6d7df1b44bc751ba354b3f26781d2f4c133cfc5"
   },
   "source": [
    "### Train Set"
   ]
  },
  {
   "cell_type": "code",
   "execution_count": 165,
   "metadata": {
    "_cell_guid": "d8b22997-8219-4419-9f4a-e954c838f828",
    "_execution_state": "idle",
    "_uuid": "2d0c9b5c368886a128b78add3cdc55c9d8ea5372",
    "collapsed": true
   },
   "outputs": [],
   "source": [
    "has_rank = [col for col in train if 'TA' in list(train[col])]"
   ]
  },
  {
   "cell_type": "code",
   "execution_count": 166,
   "metadata": {
    "_cell_guid": "2bbedd05-bde4-4a7a-8163-dc01efd74c64",
    "_execution_state": "idle",
    "_uuid": "32c0a6442102be4b60f15bce1c4d383632272d94",
    "collapsed": true
   },
   "outputs": [],
   "source": [
    "dic_num = {'None': 0, 'Po': 1, 'Fa': 2, 'TA': 3, 'Gd': 4, 'Ex': 5}"
   ]
  },
  {
   "cell_type": "code",
   "execution_count": 167,
   "metadata": {
    "_cell_guid": "a0f04938-bdc6-4698-9fa1-ca0e74f18961",
    "_execution_state": "idle",
    "_uuid": "e6513e48fe631dc915c0904df400c6f2c2017916",
    "collapsed": true
   },
   "outputs": [],
   "source": [
    "cat_hasnull = [col for col in train.select_dtypes(['object']) if train[col].isnull().any()]"
   ]
  },
  {
   "cell_type": "code",
   "execution_count": 168,
   "metadata": {
    "_cell_guid": "db34c2f2-ed8e-4d0a-81f1-4870177aed4d",
    "_execution_state": "idle",
    "_uuid": "643eda19bd3486b2a3109aa3fd798b8dd7cf5363",
    "collapsed": true
   },
   "outputs": [],
   "source": [
    "cat_hasnull.remove('Electrical')"
   ]
  },
  {
   "cell_type": "code",
   "execution_count": 169,
   "metadata": {
    "_cell_guid": "a8626ce4-8e65-4379-93c0-2d1804286ba3",
    "_execution_state": "idle",
    "_uuid": "3c84036df2b980a8b7d4628a1d70557ad9c1cc78",
    "collapsed": true
   },
   "outputs": [],
   "source": [
    "train_c2n = train.copy()"
   ]
  },
  {
   "cell_type": "code",
   "execution_count": 170,
   "metadata": {
    "_cell_guid": "2b5d4a9f-5072-4038-af8f-042e5c574949",
    "_execution_state": "idle",
    "_uuid": "6652b7d7be160781ee7e62b08c3b1bcb14b036ed",
    "collapsed": true
   },
   "outputs": [],
   "source": [
    "for key,group in lot_frontage_by_neighborhood_all:\n",
    "    lot_f_nulls_nei = train['LotFrontage'].isnull() & (train['Neighborhood'] == key)\n",
    "    train_c2n.loc[lot_f_nulls_nei,'LotFrontage'] = group.median()"
   ]
  },
  {
   "cell_type": "code",
   "execution_count": 171,
   "metadata": {
    "_cell_guid": "2e4b6979-3353-4eff-82cf-0d964dbad96d",
    "_execution_state": "idle",
    "_uuid": "b29e131ede845e80dbe0b9ff4185df193c8c0dd8",
    "collapsed": true
   },
   "outputs": [],
   "source": [
    "train_c2n = train_c2n.drop(['Street','Utilities','Condition2','RoofMatl','Heating'], axis=1)"
   ]
  },
  {
   "cell_type": "code",
   "execution_count": 172,
   "metadata": {
    "_cell_guid": "40c84082-846c-4fb1-89bf-b24b0f0f5cc1",
    "_execution_state": "idle",
    "_uuid": "0cdc53bb89a478b314a9046643756012e8943a61",
    "collapsed": true
   },
   "outputs": [],
   "source": [
    "train_c2n['MSSubClass'] = train_c2n['MSSubClass'].astype('category')"
   ]
  },
  {
   "cell_type": "code",
   "execution_count": 173,
   "metadata": {
    "_cell_guid": "87300ec1-ac6b-46c2-8ee9-6d07f01f9251",
    "_execution_state": "idle",
    "_uuid": "04497ab66dea1ba0666ba621f92aad48203d6284",
    "collapsed": true
   },
   "outputs": [],
   "source": [
    "for col in cat_hasnull:\n",
    "    null_idx = train_c2n[col].isnull()\n",
    "    train_c2n.loc[null_idx, col] = 'None'"
   ]
  },
  {
   "cell_type": "code",
   "execution_count": 174,
   "metadata": {
    "_cell_guid": "77cd9ba7-7e6c-4f9e-a785-961ad65eaaab",
    "_execution_state": "idle",
    "_uuid": "d994fb2807053d905c087575118e7c2cebf2ec19",
    "collapsed": true
   },
   "outputs": [],
   "source": [
    "null_idx_el = train_c2n['Electrical'].isnull()\n",
    "train_c2n.loc[null_idx_el, 'Electrical'] = 'SBrkr'"
   ]
  },
  {
   "cell_type": "code",
   "execution_count": 175,
   "metadata": {
    "_cell_guid": "39150d3b-6504-4502-ac1a-8f5d7b527aa9",
    "_execution_state": "idle",
    "_uuid": "dc3ebf819cab410e24e3ebe5bdcacd80dec6180e",
    "collapsed": true
   },
   "outputs": [],
   "source": [
    "for col in has_rank:\n",
    "    train_c2n[col+'_2num'] = train_c2n[col].map(dic_num)"
   ]
  },
  {
   "cell_type": "code",
   "execution_count": 176,
   "metadata": {
    "_cell_guid": "902e8718-a840-4f9e-a30a-d271a8a75a76",
    "_execution_state": "idle",
    "_uuid": "bdb81f6126fe2d075b8ffca21d2aba1562af1366",
    "collapsed": true
   },
   "outputs": [],
   "source": [
    "train_c2n = pd.get_dummies(train_c2n)"
   ]
  },
  {
   "cell_type": "code",
   "execution_count": 177,
   "metadata": {
    "_cell_guid": "8002f8c1-47e7-44c6-bc50-7b651d258fe1",
    "_execution_state": "idle",
    "_uuid": "393f507fa659b621873fe36d30cb0cc3e7a9ce55",
    "collapsed": true
   },
   "outputs": [],
   "source": [
    "train_cols = train_c2n.select_dtypes(include=['number']).columns\n",
    "train_c2n = train_c2n[train_cols]"
   ]
  },
  {
   "cell_type": "markdown",
   "metadata": {
    "_cell_guid": "8d2e94f3-eb39-435e-b747-a79a0599d3f3",
    "_uuid": "01db2cccc9e69049e7398983555e664e403801e5"
   },
   "source": [
    "### Test Set"
   ]
  },
  {
   "cell_type": "code",
   "execution_count": 178,
   "metadata": {
    "_cell_guid": "50472ab8-3f81-4e3b-af36-9b3744fa4c38",
    "_execution_state": "idle",
    "_uuid": "49ebc83f8f192cc46d990e4f364b3a4d27d3679d",
    "collapsed": true
   },
   "outputs": [],
   "source": [
    "test_c2n = test.copy()"
   ]
  },
  {
   "cell_type": "code",
   "execution_count": 179,
   "metadata": {
    "_cell_guid": "76110c4e-0946-490c-bd7b-033f96203fd2",
    "_execution_state": "idle",
    "_uuid": "8ff75b5a062cc0a5751a0e2afd6e88ce1c133cf7",
    "collapsed": true
   },
   "outputs": [],
   "source": [
    "# See Human Analog\n",
    "test_c2n.loc[666, \"GarageQual\"] = \"TA\"\n",
    "test_c2n.loc[666, \"GarageCond\"] = \"TA\"\n",
    "test_c2n.loc[666, \"GarageFinish\"] = \"Unf\"\n",
    "test_c2n.loc[666, \"GarageYrBlt\"] = 1980\n",
    "\n",
    "test_c2n.loc[1116,'GarageType'] = np.nan"
   ]
  },
  {
   "cell_type": "code",
   "execution_count": 180,
   "metadata": {
    "_cell_guid": "29a71a75-84de-44a9-9063-854825d32bc8",
    "_execution_state": "idle",
    "_uuid": "f8297c4bd0dd9b301627afdecbbd2bd19cd28f06",
    "collapsed": true
   },
   "outputs": [],
   "source": [
    "for key,group in lot_frontage_by_neighborhood_all:\n",
    "    lot_f_nulls_nei = test['LotFrontage'].isnull() & (test['Neighborhood'] == key)\n",
    "    test_c2n.loc[lot_f_nulls_nei,'LotFrontage'] = group.median()"
   ]
  },
  {
   "cell_type": "code",
   "execution_count": 181,
   "metadata": {
    "_cell_guid": "4923532f-1c9f-40b3-9c09-24caddad95cc",
    "_execution_state": "idle",
    "_uuid": "8506803b9f3d54ffba2ea74c13f858acc120420d",
    "collapsed": true
   },
   "outputs": [],
   "source": [
    "test_c2n = test_c2n.drop(['Street','Utilities','Condition2','RoofMatl','Heating'], axis=1)"
   ]
  },
  {
   "cell_type": "code",
   "execution_count": 182,
   "metadata": {
    "_cell_guid": "bfc5121b-0c94-4b17-9066-11922d2e582f",
    "_execution_state": "idle",
    "_uuid": "53e33e77d0fb1ce7e9450f54d8a841d35cf4e67a",
    "collapsed": true
   },
   "outputs": [],
   "source": [
    "test_c2n['MSSubClass'] = test_c2n['MSSubClass'].astype('category')"
   ]
  },
  {
   "cell_type": "code",
   "execution_count": 183,
   "metadata": {
    "_cell_guid": "d5a8ef7b-46de-4e0c-9da0-aafc810015f9",
    "_execution_state": "idle",
    "_uuid": "73106ccdafe1c03f526474be32940aaf8addbbaf",
    "collapsed": true
   },
   "outputs": [],
   "source": [
    "for col in cat_hasnull:\n",
    "    null_idx = test_c2n[col].isnull()\n",
    "    test_c2n.loc[null_idx, col] = 'None'"
   ]
  },
  {
   "cell_type": "code",
   "execution_count": 184,
   "metadata": {
    "_cell_guid": "a93b5bcf-a725-41d7-97c3-2d4c26f11e1e",
    "_execution_state": "idle",
    "_uuid": "ccf9adaafb6a33bdf3c179080101b1e782357758",
    "collapsed": true
   },
   "outputs": [],
   "source": [
    "null_idx_el = test_c2n['Electrical'].isnull()\n",
    "test_c2n.loc[null_idx_el, 'Electrical'] = 'SBrkr'"
   ]
  },
  {
   "cell_type": "code",
   "execution_count": 185,
   "metadata": {
    "_cell_guid": "63ee14c0-7938-4725-9cae-3cb2de6590a8",
    "_execution_state": "idle",
    "_uuid": "5c5c88e4689ba76faa3cef11232bb7326070cd1e",
    "collapsed": true
   },
   "outputs": [],
   "source": [
    "for col in has_rank:\n",
    "    test_c2n[col+'_2num'] = test_c2n[col].map(dic_num)"
   ]
  },
  {
   "cell_type": "code",
   "execution_count": 186,
   "metadata": {
    "_cell_guid": "e7fbe01e-fe68-40df-b208-c0b19fe42532",
    "_execution_state": "idle",
    "_uuid": "875e35a796b8360e467ae82ca00be16750bb2453",
    "collapsed": true
   },
   "outputs": [],
   "source": [
    "test_c2n = pd.get_dummies(test_c2n)"
   ]
  },
  {
   "cell_type": "code",
   "execution_count": 187,
   "metadata": {
    "_cell_guid": "417804b7-26f0-4c1d-a222-8bf8333a42f6",
    "_execution_state": "idle",
    "_uuid": "f955290e94b9ac8e1ceedb6ba0ecac8cf763ef78",
    "collapsed": true
   },
   "outputs": [],
   "source": [
    "test_c2n['SalePrice'] = 0"
   ]
  },
  {
   "cell_type": "code",
   "execution_count": 188,
   "metadata": {
    "_cell_guid": "0ad8aee2-5a9d-445f-9275-b2d2eafbfd23",
    "_execution_state": "idle",
    "_uuid": "f0988fd32629619e771f34cf2c797e5e3ce2d47b",
    "collapsed": true
   },
   "outputs": [],
   "source": [
    "for col in train_cols:\n",
    "    if col not in test_c2n:\n",
    "        train_c2n = train_c2n.drop(col,axis=1)"
   ]
  },
  {
   "cell_type": "code",
   "execution_count": 189,
   "metadata": {
    "_cell_guid": "510c2095-97bc-429c-8c52-a187ffb0dff0",
    "_execution_state": "idle",
    "_uuid": "11f56c00526bdf74247e8328495dcfcd12fae46e",
    "collapsed": true
   },
   "outputs": [],
   "source": [
    "test_c2n = test_c2n.drop('MSSubClass_150', axis = 1)"
   ]
  },
  {
   "cell_type": "code",
   "execution_count": 190,
   "metadata": {
    "_cell_guid": "eb7fd581-0e7f-49c1-aaa0-aca62cf402e8",
    "_execution_state": "idle",
    "_uuid": "3233712547c4b0dba4df8ba3a239b4da9b5d73ef",
    "collapsed": true
   },
   "outputs": [],
   "source": [
    "final_cols = test_c2n.select_dtypes(include=['number']).columns\n",
    "test_c2n = test_c2n[final_cols]"
   ]
  },
  {
   "cell_type": "code",
   "execution_count": 191,
   "metadata": {
    "_cell_guid": "ddbb91ab-7acd-4de5-97e8-26e3eb2c6450",
    "_execution_state": "idle",
    "_uuid": "3528dd7a8c25a85b05a0badfe8cc3b6c303ce5bc",
    "collapsed": true
   },
   "outputs": [],
   "source": [
    "test_c2n = test_c2n[train_c2n.columns]"
   ]
  },
  {
   "cell_type": "markdown",
   "metadata": {
    "_cell_guid": "22236cec-f565-4512-baaa-bed001239d08",
    "_uuid": "1288b61c29f35e49ce499ecbb2fb100514e1fe3e"
   },
   "source": [
    "### Fill with medians"
   ]
  },
  {
   "cell_type": "code",
   "execution_count": 192,
   "metadata": {
    "_cell_guid": "0a6bf30e-f99f-4909-8f88-3a1a2ff763b6",
    "_execution_state": "idle",
    "_uuid": "01cb1a8f8c266aca453ec9e6464d05fc9e2889b7",
    "collapsed": true
   },
   "outputs": [],
   "source": [
    "train_test_combo = train_c2n.append(test_c2n)\n",
    "train_test_raw = train.append(test)"
   ]
  },
  {
   "cell_type": "code",
   "execution_count": 193,
   "metadata": {
    "_cell_guid": "46fa6850-0a2a-4d81-b313-5e1c283ace0b",
    "_execution_state": "idle",
    "_uuid": "d3320290171efc1f447a2da8adda02612270e1e5",
    "collapsed": true
   },
   "outputs": [],
   "source": [
    "train_test_combo = train_test_combo.fillna(train_test_combo.median())"
   ]
  },
  {
   "cell_type": "code",
   "execution_count": 194,
   "metadata": {
    "_cell_guid": "f24e115a-e3e2-4d1e-ba96-68554843d8d9",
    "_execution_state": "idle",
    "_uuid": "f4ba26ab683ccec42006b3d3c723636be6ea15a3",
    "collapsed": true
   },
   "outputs": [],
   "source": [
    "train_med = train_test_combo[:1460]\n",
    "test_med = train_test_combo[1460:]"
   ]
  },
  {
   "cell_type": "markdown",
   "metadata": {
    "_cell_guid": "b6757205-7411-4626-8e78-2af2e346aedc",
    "_uuid": "a6be5f0f7e691d30470dfeaa1662911bf91ef12f"
   },
   "source": [
    "### Unskewing"
   ]
  },
  {
   "cell_type": "code",
   "execution_count": 195,
   "metadata": {
    "_cell_guid": "d9b15062-a54a-44de-a4ff-f269c7f9fffa",
    "_execution_state": "idle",
    "_uuid": "d08502e5229b9d6b844cfa4e6b49c4e4b44a981e",
    "collapsed": true
   },
   "outputs": [],
   "source": [
    "cols = [col for col in train_med if '_2num' in col or '_' not in col]\n",
    "skew = [abs(stats.skew(train_med[col])) for col in train_med if '_2num' in col or '_' not in col]"
   ]
  },
  {
   "cell_type": "code",
   "execution_count": 196,
   "metadata": {
    "_cell_guid": "4b14ad80-61f0-4afc-a853-9628976270c6",
    "_execution_state": "idle",
    "_uuid": "6b1e0526fd71cacdc7d7330beeb9509a8b2ea6d4",
    "collapsed": true
   },
   "outputs": [],
   "source": [
    "skews = pd.DataFrame()\n",
    "skews['Columns'] = cols\n",
    "skews['Skew_Magnintudes'] = skew"
   ]
  },
  {
   "cell_type": "code",
   "execution_count": 197,
   "metadata": {
    "_cell_guid": "2a056075-c692-4532-af4d-94e5cd39bf7d",
    "_execution_state": "idle",
    "_uuid": "515a9d998ab86d62e5b5d8cd57c09bb39d3da750",
    "collapsed": true
   },
   "outputs": [],
   "source": [
    "cols_unskew = skews[skews.Skew_Magnintudes > 1].Columns"
   ]
  },
  {
   "cell_type": "code",
   "execution_count": 198,
   "metadata": {
    "_cell_guid": "c87bf733-dc0a-4143-8350-be174dfa781d",
    "_execution_state": "idle",
    "_uuid": "836e8fb1ad3da393f1da7862b96e438f8589fa49",
    "collapsed": true
   },
   "outputs": [],
   "source": [
    "train_unskew2 = train_med.copy()\n",
    "test_unskew2 = test_med.copy()"
   ]
  },
  {
   "cell_type": "code",
   "execution_count": 199,
   "metadata": {
    "_cell_guid": "c2889703-b7bf-42d3-bfc1-259cb78aae44",
    "_execution_state": "idle",
    "_uuid": "5b6e8364b4fb7497d2c6ed474c4e9cb753cab617",
    "collapsed": true
   },
   "outputs": [],
   "source": [
    "for col in cols_unskew:\n",
    "    train_unskew2[col] = np.log1p(train_med[col])\n",
    "    \n",
    "for col in cols_unskew:\n",
    "    test_unskew2[col] = np.log1p(test_med[col])"
   ]
  },
  {
   "cell_type": "markdown",
   "metadata": {
    "_cell_guid": "d76e8431-fb79-4ec9-969a-3f1943e3da78",
    "_uuid": "f105aea99dcf97eaf94a950877d4b0931f893310",
    "collapsed": true
   },
   "source": [
    "### Removing outliers in sample"
   ]
  },
  {
   "cell_type": "code",
   "execution_count": 200,
   "metadata": {
    "_cell_guid": "850171a3-9e61-40bf-9fa6-fcbdf154d47c",
    "_execution_state": "idle",
    "_uuid": "023b51aca9a3b0799d6229c34cf9a624cebe7419",
    "collapsed": true
   },
   "outputs": [],
   "source": [
    "bonf_outlier = [88,462,523,588,632,968,1298,1324]"
   ]
  },
  {
   "cell_type": "code",
   "execution_count": 201,
   "metadata": {
    "_cell_guid": "1708c7f9-25fb-4f53-9454-fbed81672c3d",
    "_execution_state": "idle",
    "_uuid": "a6bdb35252165c5f386274a26b0790aa242d63d9",
    "collapsed": true
   },
   "outputs": [],
   "source": [
    "train_unskew3 = train_unskew2.drop(bonf_outlier)"
   ]
  },
  {
   "cell_type": "markdown",
   "metadata": {
    "_cell_guid": "2bf7eabc-a734-4b12-ba13-93296aef4b18",
    "_uuid": "7e520460866e2bcc1b56cf20be337c367e3afb7d"
   },
   "source": [
    "### 'Overfit' Columns"
   ]
  },
  {
   "cell_type": "code",
   "execution_count": 202,
   "metadata": {
    "_cell_guid": "b831a1da-ae7e-4ea7-b1b4-9006e4d434a8",
    "_execution_state": "idle",
    "_uuid": "c907770fe8e3cd6cb33575035be6ce827c4250e4",
    "collapsed": true
   },
   "outputs": [],
   "source": [
    "drop_cols = [\"MSSubClass_160\", \"MSZoning_C (all)\"]"
   ]
  },
  {
   "cell_type": "code",
   "execution_count": 203,
   "metadata": {
    "_cell_guid": "029ac085-6824-470c-af8e-abae13b079c5",
    "_execution_state": "idle",
    "_uuid": "b1a195745cf929c5f0ec1a837375017104f01b6d",
    "collapsed": true
   },
   "outputs": [],
   "source": [
    "train_unskew3 = train_unskew3.drop(drop_cols, axis = 1)\n",
    "test_unskew2 = test_unskew2.drop(drop_cols, axis = 1)"
   ]
  },
  {
   "cell_type": "markdown",
   "metadata": {
    "_cell_guid": "95073dc4-b118-42e6-a9f2-b2f571dd1bcd",
    "_uuid": "23696441e2beb4c865ef86e2a8404739b0497d58"
   },
   "source": [
    "### Final DFs"
   ]
  },
  {
   "cell_type": "code",
   "execution_count": 204,
   "metadata": {
    "_cell_guid": "1ae2cbdb-6f5e-449e-a44f-cc8c7d9eb1c9",
    "_execution_state": "idle",
    "_uuid": "1507c94d7d237fb03bdb92679f1f5b03d7d35e22",
    "collapsed": true
   },
   "outputs": [],
   "source": [
    "X_train = train_unskew3.drop(['Id','SalePrice'],axis = 1)\n",
    "y_train = train_unskew3['SalePrice']"
   ]
  },
  {
   "cell_type": "code",
   "execution_count": 205,
   "metadata": {
    "_cell_guid": "5e43aba1-0a77-4944-8262-031220a5c8d1",
    "_execution_state": "idle",
    "_uuid": "b96d2be8a29ed52efbc7a02216ae8d576f62e819",
    "collapsed": true
   },
   "outputs": [],
   "source": [
    "X_test = test_unskew2.drop(['Id','SalePrice'],axis=1)"
   ]
  },
  {
   "cell_type": "markdown",
   "metadata": {
    "_cell_guid": "44da255d-9fa8-43d0-8fb1-95e01286c02b",
    "_uuid": "61cdddf35397608929fcfe18e3537f05705e73c4"
   },
   "source": [
    "# 6. Final Modelling"
   ]
  },
  {
   "cell_type": "markdown",
   "metadata": {
    "_cell_guid": "96a33f01-d530-42a0-980c-1fc2b8aa2c7e",
    "_uuid": "0421e15a5eb60501359f87e73fbb71e19875fe0c"
   },
   "source": [
    "We've been doing bits and pieces of modelling throughout to verify our engineering steps, but let's consolidate all of this. Given that we've settled on our final feature set, let's tighten this up and make our final submission."
   ]
  },
  {
   "cell_type": "markdown",
   "metadata": {
    "_cell_guid": "1b0d510d-855c-4e3a-b7b3-d2220d0cf4bb",
    "_uuid": "5b9afff32519f1ff3298044b70a4c51d10648844"
   },
   "source": [
    "## Lasso"
   ]
  },
  {
   "cell_type": "markdown",
   "metadata": {
    "_cell_guid": "f883e971-22b3-430c-a592-847e01ffc1f2",
    "_uuid": "234f8aa6d38b4251360d4f7856821ff6b813da52"
   },
   "source": [
    "Very easy, see before."
   ]
  },
  {
   "cell_type": "code",
   "execution_count": 208,
   "metadata": {
    "_cell_guid": "aecc955e-99aa-48cc-b80c-f697902f05c5",
    "_execution_state": "idle",
    "_uuid": "458bcf68f32acc4f61794b15f8a6763e4ef1c2e2",
    "collapsed": true
   },
   "outputs": [],
   "source": [
    "scaler = StandardScaler()\n",
    "LCV = LassoCV()\n",
    "scale_LCV = Pipeline([('scaler',scaler),('LCV',LCV)])\n",
    "\n",
    "cv_score = cross_val_score(scale_LCV, X_train, y_train, cv = 5, n_jobs=-1)"
   ]
  },
  {
   "cell_type": "code",
   "execution_count": null,
   "metadata": {
    "_cell_guid": "01fbd06a-139d-443a-8430-ebe506f10380",
    "_execution_state": "idle",
    "_uuid": "ea35746991863fdfc9f5ac3f3a2714a7d5cfb586",
    "collapsed": true
   },
   "outputs": [],
   "source": [
    "print('CV Score is: '+ str(np.mean(cv_score)))"
   ]
  },
  {
   "cell_type": "markdown",
   "metadata": {
    "_cell_guid": "13f7a3d9-4c4f-4019-87b8-95ca5b1083d9",
    "_uuid": "64fa538a8265660b3a3bca46b4545b6f0a3a274d"
   },
   "source": [
    "## XGBoost"
   ]
  },
  {
   "cell_type": "markdown",
   "metadata": {
    "_cell_guid": "16d2868c-089c-4297-9adc-d76e7fe35e7f",
    "_uuid": "5cd23561885423dba243e1603533d516c31b4c09"
   },
   "source": [
    "### Overfitting... on a seed?"
   ]
  },
  {
   "cell_type": "markdown",
   "metadata": {
    "_cell_guid": "c3d58c4f-a2b4-40bc-82f3-f608e09668d3",
    "_uuid": "70cccb24b89721eb4d1a397cc766f45785a1c192"
   },
   "source": [
    "XGBoost requires a seed, as this affects how the trees are built. This can however result in issues. For example, if we were to keep the seed constant and tune hyperparameters using cross validation, we may overfit to that score/seed, resulting in a model which won't generalise onto new points. The way around this is to validate each improved hyperparameter choice with a few different seeds to ensure that the new hyperparameter really offers better generalisation.\n",
    "\n",
    "Once you take this approach, the best final step is to average the final outputs from several different XGBoost models with the same optimal hyperparameters, but different seeds."
   ]
  },
  {
   "cell_type": "markdown",
   "metadata": {
    "_cell_guid": "efb5a57a-054d-443e-95c3-61a38b17e50d",
    "_uuid": "d42f62cb623da7acec0de8b34395568b3d5000a3"
   },
   "source": [
    "### The final model"
   ]
  },
  {
   "cell_type": "markdown",
   "metadata": {
    "_cell_guid": "02b57de1-3e98-4581-9746-30ed2cc3eb73",
    "_uuid": "1b5c8a16993186b44973875f4de3560c5c270986"
   },
   "source": [
    "With the above in mind, let's create the final XGBoost model."
   ]
  },
  {
   "cell_type": "code",
   "execution_count": 209,
   "metadata": {
    "_cell_guid": "f2576e7a-3493-4c51-9ab3-8ee7d25a9662",
    "_execution_state": "idle",
    "_uuid": "90af189119b8956b8c07784d0f5fb2a73717c63f",
    "collapsed": true
   },
   "outputs": [],
   "source": [
    "from sklearn.base import BaseEstimator, RegressorMixin"
   ]
  },
  {
   "cell_type": "code",
   "execution_count": 210,
   "metadata": {
    "_cell_guid": "e9b5e079-90ed-42b6-b14a-5a81074c3f19",
    "_execution_state": "idle",
    "_uuid": "b844a381668a3483681db12d12b677d46bf40cb3",
    "collapsed": true
   },
   "outputs": [],
   "source": [
    "class CustomEnsembleRegressor(BaseEstimator, RegressorMixin):\n",
    "    def __init__(self, regressors=None):\n",
    "        self.regressors = regressors\n",
    "\n",
    "    def fit(self, X, y):\n",
    "        for regressor in self.regressors:\n",
    "            regressor.fit(X, y)\n",
    "\n",
    "    def predict(self, X):\n",
    "        self.predictions_ = list()\n",
    "        for regressor in self.regressors:\n",
    "            self.predictions_.append((regressor.predict(X).ravel()))\n",
    "        return (np.mean(self.predictions_, axis=0))"
   ]
  },
  {
   "cell_type": "markdown",
   "metadata": {
    "_cell_guid": "fa9f7bad-c1d0-4698-8d88-256d9c59d44b",
    "_uuid": "cd005a8fcecebab2fed362f1049beea6dd14335d"
   },
   "source": [
    "The above was helpfully taken and modified from Oleg Panichev's \"Ensemble of 4 models with CV [LB: 0.11489]\" [kernel](https://www.kaggle.com/opanichev/ensemble-of-4-models-with-cv-lb-0-11489)."
   ]
  },
  {
   "cell_type": "code",
   "execution_count": 211,
   "metadata": {
    "_cell_guid": "b039f925-afb4-4fdf-abc8-07be790950b9",
    "_execution_state": "idle",
    "_uuid": "b587b6b6797dd91b577f02469a66d2f0fe597652",
    "collapsed": true
   },
   "outputs": [],
   "source": [
    "xgb1 = XGBRegressor(colsample_bytree=0.2,\n",
    "                 learning_rate=0.05,\n",
    "                 max_depth=3,\n",
    "                 n_estimators=1200\n",
    "                )\n",
    "\n",
    "xgb2 = XGBRegressor(colsample_bytree=0.2,\n",
    "                 learning_rate=0.05,\n",
    "                 max_depth=3,\n",
    "                 n_estimators=1200,\n",
    "                seed = 1234\n",
    "                )\n",
    "\n",
    "xgb3 = XGBRegressor(colsample_bytree=0.2,\n",
    "                 learning_rate=0.05,\n",
    "                 max_depth=3,\n",
    "                 n_estimators=1200,\n",
    "                seed = 1337\n",
    "                )"
   ]
  },
  {
   "cell_type": "markdown",
   "metadata": {
    "_cell_guid": "f1adc42f-57aa-4e96-8e02-5e6c643df9fd",
    "_uuid": "f1712491bb7f73105ffb90fee2f6e950b62a3c0d"
   },
   "source": [
    "The above hyperparameters were found with a manual gridsearch."
   ]
  },
  {
   "cell_type": "code",
   "execution_count": 212,
   "metadata": {
    "_cell_guid": "b7d34881-541d-4c8d-a552-27bfc2097523",
    "_execution_state": "idle",
    "_uuid": "b3b0abe3500db2f8bb81890bb4011d3a91573cc8",
    "collapsed": true
   },
   "outputs": [],
   "source": [
    "xgb_ens = CustomEnsembleRegressor([xgb1,xgb2,xgb3])"
   ]
  },
  {
   "cell_type": "markdown",
   "metadata": {
    "_cell_guid": "71b11371-0e1e-4925-8a28-50e39de710d4",
    "_uuid": "f81380c819e0aca2367e9809bfc8dfd3ea7f8c3a"
   },
   "source": [
    "Running the CV for the ensemble regressor crashes it; get an indication on one regressor."
   ]
  },
  {
   "cell_type": "code",
   "execution_count": 213,
   "metadata": {
    "_cell_guid": "21095048-e4ac-4e2f-b28c-b777a51ca789",
    "_execution_state": "idle",
    "_uuid": "0e47564cd35d5135ea610204e06670240639cc84",
    "collapsed": true
   },
   "outputs": [],
   "source": [
    "cvscore = cross_val_score(cv=5,estimator=xgb1,X = X_train,y = y_train, n_jobs = -1)"
   ]
  },
  {
   "cell_type": "code",
   "execution_count": 214,
   "metadata": {
    "_cell_guid": "313be0df-5251-4335-aed6-e0d0c5d39a28",
    "_execution_state": "idle",
    "_uuid": "eb92396f031b388c3774a5d8239c6d390efa7deb"
   },
   "outputs": [
    {
     "name": "stdout",
     "output_type": "stream",
     "text": [
      "CV Score is: 0.9237729423380869\n"
     ]
    }
   ],
   "source": [
    "print('CV Score is: '+ str(np.mean(cvscore)))"
   ]
  },
  {
   "cell_type": "markdown",
   "metadata": {
    "_cell_guid": "a4e0460e-9c01-4f49-9f57-b691c3db7d86",
    "_uuid": "944dd12bd44518148cf145f9c03533b1f77fcf6f"
   },
   "source": [
    "## The results?"
   ]
  },
  {
   "cell_type": "markdown",
   "metadata": {
    "_cell_guid": "77b01e3a-8747-4608-9f1a-d0fee15de41f",
    "_uuid": "8e014b5ab49dcc015534ddc5f94ad54f8e54259c"
   },
   "source": [
    "Our R^2 scores look great, and our models are finely tuned so drum roll please for the final results...\n",
    "\n",
    "Lasso scores: 0.11912\n",
    "\n",
    "XGBoost scores: 0.11974\n",
    "\n",
    "Pretty astounding, we're in the top 17% with just a simple Lasso model. If you told me that before the competition I would have laughed at you!"
   ]
  },
  {
   "cell_type": "markdown",
   "metadata": {
    "_cell_guid": "677cf1d6-b1a6-43f3-92f3-85c53e08d09a",
    "_uuid": "88d77d95046cedc80d0a2b865f0a73edd51506f9"
   },
   "source": [
    "### Take the average of the two for the top 10%!"
   ]
  },
  {
   "cell_type": "markdown",
   "metadata": {
    "_cell_guid": "eb408ae8-7319-4f5b-bb73-44cac0a764c7",
    "_uuid": "1e0530726e9d977afea529ef748b5a89056745e6"
   },
   "source": [
    "In the same way we improved our XGBoost by averaging different models, we can do the same for Lasso and XGBoost. This makes sense as these models are built in completely different ways, so any errors (under/over estimates) should be cancelled out by averaging with the other model, assuming these errors are a function of the modelling types, not the data.\n",
    "\n",
    "As proof of this, we take our final step to glory by achieveing a score of 0.11549!"
   ]
  },
  {
   "cell_type": "markdown",
   "metadata": {
    "_cell_guid": "e2920f78-e7ab-4ada-a89b-5e8dbfc8f7b8",
    "_uuid": "fd0c55bcd3f182e2916a6712087b6d300bcd09f8"
   },
   "source": [
    "# 7. Afterword"
   ]
  },
  {
   "cell_type": "markdown",
   "metadata": {
    "_cell_guid": "d99c8e5d-6ef5-4857-973e-57de42857eb2",
    "_uuid": "0719b4afa8f8dce069863b460c01a8189dec9669"
   },
   "source": [
    "## Conclusions"
   ]
  },
  {
   "cell_type": "markdown",
   "metadata": {
    "_cell_guid": "d624f869-d360-4101-8b09-1da6ff72dc7d",
    "_uuid": "fe67e072de1c406877c4d2fd178068776622c07d"
   },
   "source": [
    "1. Don't trust your CV score blindly in the face of limited data, find a balance between the LB score and CV\n",
    "    1. Crazily enough, CV can overfit!!!\n",
    "2. Baseline your scores so you don't make suboptimal choices early on\n",
    "3. Always reseed your seed-based algorithms when tuning hyperparameters\n",
    "4. With regression the smallest things can make a huge difference, especially on LB scores:\n",
    "    1. Outliers\n",
    "    2. Overfitting to dummy features"
   ]
  },
  {
   "cell_type": "markdown",
   "metadata": {
    "_cell_guid": "61e26cbb-4eed-43d9-9fbe-56e51c3ba7ee",
    "_uuid": "204f146229b4afb788c9dcfd1fe7ca3a20a58f22"
   },
   "source": [
    "## Things I tried out but didn't work:"
   ]
  },
  {
   "cell_type": "markdown",
   "metadata": {
    "_cell_guid": "d99d8662-437a-42ae-b8ba-3f530116b9f0",
    "_uuid": "9bb60837aa968cfd02e1b9a34f51a61f68a887d7"
   },
   "source": [
    "1. Stacking\n",
    "2. Different models and ensembling them in various ways:\n",
    "    1. KRR/SVR\n",
    "    2. kNN Regression\n",
    "    3. Ridge\n",
    "    4. ElasticNet\n",
    "    5. ExtraTrees\n",
    "    6. LARs/LassoLARs\n",
    "    7. Passive Aggressive Regression\n",
    "    8. Huber\n",
    "3. A whole list of data engineering steps:\n",
    "    1. Making Year and Month categorical\n",
    "    2. Playing around with GarageYrBuilt\n",
    "    3. Adding in external data (interest rates)\n",
    "    4. etc etc\n",
    "    \n",
    "If anyone has tips on stacking that would be greatly appreciated! I'd love it for someone to take the data from here and use it to beat my score with a stacked model :)"
   ]
  },
  {
   "cell_type": "markdown",
   "metadata": {
    "_cell_guid": "cdc896bc-5c87-4ef7-927a-86cf08cb6b31",
    "_uuid": "ce88a86dde4dc8f9bd859ecd3c1886b62e6fa30b"
   },
   "source": [
    "# Appendix"
   ]
  },
  {
   "cell_type": "markdown",
   "metadata": {
    "_cell_guid": "69325c7e-ae5d-464d-8613-ce73ef95e092",
    "_uuid": "a047bbf90bb135ffa8aabc1ff0eab17427479fd1"
   },
   "source": [
    "## Sumbit Code"
   ]
  },
  {
   "cell_type": "code",
   "execution_count": 216,
   "metadata": {
    "_cell_guid": "651c06f8-1343-4c02-8e3a-ad7ee77fef24",
    "_execution_state": "idle",
    "_uuid": "3ec357f740a9300d7c241fffc9bc3db41cc02962",
    "collapsed": true
   },
   "outputs": [],
   "source": [
    "xgb_ens.fit(X_train, y_train);\n",
    "#scale_LCV.fit(X_train,y_train);"
   ]
  },
  {
   "cell_type": "code",
   "execution_count": 217,
   "metadata": {
    "_cell_guid": "556216c9-7aa3-4dad-a79c-7470962ba773",
    "_execution_state": "idle",
    "_uuid": "3e21f26121c9442dc2f0bfd39505fd4194d35939",
    "collapsed": true
   },
   "outputs": [],
   "source": [
    "preds_x = np.expm1(xgb_ens.predict(X_test));\n",
    "preds_l = np.expm1(scale_LCV.predict(X_test));\n",
    "preds = (preds_x+preds_l)/2\n",
    "out_preds = pd.DataFrame()\n",
    "out_preds['Id'] = test['Id']\n",
    "out_preds['SalePrice'] = preds\n",
    "out_preds.to_csv('output.csv', index=False)\n",
    "#0.11955"
   ]
  }
 ],
 "metadata": {
  "kernelspec": {
   "display_name": "Python [default]",
   "language": "python",
   "name": "python3"
  },
  "language_info": {
   "codemirror_mode": {
    "name": "ipython",
    "version": 3
   },
   "file_extension": ".py",
   "mimetype": "text/x-python",
   "name": "python",
   "nbconvert_exporter": "python",
   "pygments_lexer": "ipython3",
   "version": "3.5.4"
  }
 },
 "nbformat": 4,
 "nbformat_minor": 1
}
